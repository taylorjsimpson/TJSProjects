{
 "cells": [
  {
   "cell_type": "code",
   "execution_count": null,
   "metadata": {},
   "outputs": [],
   "source": [
    "#This is my Beautifuk Soup Lab. I had three meetings with TAs all of who were unable to help me with the step of getting my food dictionary popualted. \n",
    "#After speaking with Will he advised me to submit as is. "
   ]
  },
  {
   "cell_type": "code",
   "execution_count": 14,
   "metadata": {},
   "outputs": [],
   "source": [
    "# Import libaries\n",
    "from bs4 import BeautifulSoup"
   ]
  },
  {
   "cell_type": "markdown",
   "metadata": {},
   "source": [
    "### Step 1: Create a soup object from the home page"
   ]
  },
  {
   "cell_type": "code",
   "execution_count": 5,
   "metadata": {},
   "outputs": [],
   "source": [
    "# You'll need the requests library in order to fully utilize bs4.\n",
    "import requests\n",
    "from bs4 import BeautifulSoup as soup\n",
    "\n",
    "# Target web page:\n",
    "url = \"http://chubbygrub.com\"\n",
    "\n",
    "# Use the requests library to get the html from the home page\n",
    "res = requests.get('http://chubbygrub.com')\n",
    "\n",
    "# Create a soup object from the html\n",
    "soup = soup(res.content, 'lxml')\n",
    "\n",
    "# You can use status codes to understand how the target server responds to your request.\n",
    "# Ex., 200 = OK, 400 = Bad Request, 403 = Forbidden, 404 = Not Found.\n",
    "#print('Status Code: ',response.status_code)\n",
    "\n",
    "# Pull the HTML string out of requests and convert it to a Python string.\n",
    "html = response.text\n",
    "\n",
    "# The first 700 characters of the content.\n",
    "#print(\"\\nFirst part of HTML document fetched as string:\\n\")\n",
    "#print(html[:12000])"
   ]
  },
  {
   "cell_type": "code",
   "execution_count": 6,
   "metadata": {},
   "outputs": [
    {
     "data": {
      "text/plain": [
       "<body class=\"home page-template-default page page-id-9\">\n",
       "<div class=\"header\">\n",
       "<div class=\"container\">\n",
       "<div class=\"row\">\n",
       "<div class=\"col-md-3\">\n",
       "<a href=\"http://chubbygrub.com\"><img alt=\"\" border=\"0\" height=\"50\" src=\"http://chubbygrub.com/wp-content/themes/chubbygrub-2/images/logo_chubbygrub.png\" width=\"210\"/></a>\n",
       "</div><!--// .col-md-3 -->\n",
       "<div class=\"col-md-9\">\n",
       "<div class=\"menu-main-navigation-container\"><ul class=\"nav-pills nav pull-right\" id=\"menu-main-navigation\"><li class=\"menu-item menu-item-type-post_type menu-item-object-page menu-item-home current-menu-item page_item page-item-9 current_page_item menu-item-11\" id=\"menu-item-11\"><a href=\"http://chubbygrub.com/\">Home</a></li>\n",
       "<li class=\"menu-item menu-item-type-post_type menu-item-object-page menu-item-12\" id=\"menu-item-12\"><a href=\"http://chubbygrub.com/categories/\">Categories</a></li>\n",
       "<li class=\"menu-item menu-item-type-post_type menu-item-object-page menu-item-13\" id=\"menu-item-13\"><a href=\"http://chubbygrub.com/restaurants/\">Restaurants</a></li>\n",
       "</ul></div> </div><!--// .col-md-9 -->\n",
       "</div><!--// .row -->\n",
       "</div>\n",
       "</div>\n",
       "<div class=\"front-page-hero\">\n",
       "<div class=\"container\">\n",
       "<div class=\"row\">\n",
       "<div class=\"col-md-7 col-md-offset-1\">\n",
       "<div data-scroll-reveal=\"enter from the left after 1s\">\n",
       "<h1>Nutrition information from your favorite restaurants…all in one place!</h1>\n",
       "</div>\n",
       "</div>\n",
       "<div class=\"col-md-3\">\n",
       "<div data-scroll-reveal=\"enter from the right after 1s\">\n",
       "<img src=\"http://chubbygrub.com/wp-content/themes/chubbygrub-2/images/cartoon.png\"/>\n",
       "</div>\n",
       "</div>\n",
       "</div>\n",
       "</div>\n",
       "</div>\n",
       "<div style=\"text-align: center;\">\n",
       "<script async=\"\" src=\"//pagead2.googlesyndication.com/pagead/js/adsbygoogle.js\"></script>\n",
       "<ins class=\"adsbygoogle\" data-ad-client=\"ca-pub-0822770560731967\" data-ad-slot=\"4157356813\" style=\"display:inline-block;width:728px;height:90px\"></ins>\n",
       "<script>\n",
       "  (adsbygoogle = window.adsbygoogle || []).push({});\n",
       "  </script>\n",
       "</div>\n",
       "<div class=\"container\">\n",
       "<div class=\"row\">\n",
       "<div class=\"col-md-12\">\n",
       "<div class=\"restaurant-buttons\">\n",
       "<br/>\n",
       "<br/>\n",
       "<br/>\n",
       "<br/>\n",
       "<br/>\n",
       "<br/>\n",
       "<div class=\"form-group has-warning\">\n",
       "<input autofocus=\"true\" class=\"form-control input-lg\" data-content=\"The results below will narrow down according to your search\" data-placement=\"top\" data-title=\"Type a Restaurant or Category\" id=\"restaurant-field\" placeholder=\"e.g. McDonald's\" type=\"text\"/>\n",
       "</div>\n",
       "<a class=\"btn btn-lg btn-primary\" href=\"/restaurants/aw-restaurants\">A&amp;W Restaurants</a> <a class=\"btn btn-lg btn-primary\" href=\"/restaurants/applebees\">Applebee's</a> <a class=\"btn btn-lg btn-primary\" href=\"/restaurants/arbys\">Arby's</a> <a class=\"btn btn-lg btn-primary\" href=\"/restaurants/atlanta-bread-company\">Atlanta Bread Company</a> <a class=\"btn btn-lg btn-primary\" href=\"/restaurants/bojangles-famous-chicken-n-biscuits\">Bojangle's Famous Chicken 'n Biscuits</a> <a class=\"btn btn-lg btn-primary\" href=\"/restaurants/buffalo-wild-wings\">Buffalo Wild Wings</a> <a class=\"btn btn-lg btn-primary\" href=\"/restaurants/burger-king\">Burger King</a> <a class=\"btn btn-lg btn-primary\" href=\"/restaurants/captain-ds\">Captain D's</a> <a class=\"btn btn-lg btn-primary\" href=\"/restaurants/carls-jr\">Carl's Jr.</a> <a class=\"btn btn-lg btn-primary\" href=\"/restaurants/charleys-grilled-subs\">Charley's Grilled Subs</a> <a class=\"btn btn-lg btn-primary\" href=\"/restaurants/chick-fil-a\">Chick-fil-A</a> <a class=\"btn btn-lg btn-primary\" href=\"/restaurants/chilis\">Chili's</a> <a class=\"btn btn-lg btn-primary\" href=\"/restaurants/chipotle-mexican-grill\">Chipotle Mexican Grill</a> <a class=\"btn btn-lg btn-primary\" href=\"/restaurants/churchs\">Church's</a> <a class=\"btn btn-lg btn-primary\" href=\"/restaurants/corner-bakery-cafe\">Corner Bakery Cafe</a> <a class=\"btn btn-lg btn-primary\" href=\"/restaurants/dairy-queen\">Dairy Queen</a> <a class=\"btn btn-lg btn-primary\" href=\"/restaurants/dennys\">Denny's</a> <a class=\"btn btn-lg btn-primary\" href=\"/restaurants/el-pollo-loco\">El Pollo Loco</a> <a class=\"btn btn-lg btn-primary\" href=\"/restaurants/fatz\">FATZ</a> <a class=\"btn btn-lg btn-primary\" href=\"/restaurants/fazolis\">Fazoli's</a> <a class=\"btn btn-lg btn-primary\" href=\"/restaurants/five-guys-burgers-and-fries\">Five Guys Burgers and Fries</a> <a class=\"btn btn-lg btn-primary\" href=\"/restaurants/golden-chick\">Golden Chick</a> <a class=\"btn btn-lg btn-primary\" href=\"/restaurants/hardees\">Hardee's</a> <a class=\"btn btn-lg btn-primary\" href=\"/restaurants/ihop\">IHOP</a> <a class=\"btn btn-lg btn-primary\" href=\"/restaurants/in-n-out-burger\">In-N-Out Burger</a> <a class=\"btn btn-lg btn-primary\" href=\"/restaurants/jack-in-the-box\">Jack in the Box</a> <a class=\"btn btn-lg btn-primary\" href=\"/restaurants/jimmy-johns\">Jimmy Johns</a> <a class=\"btn btn-lg btn-primary\" href=\"/restaurants/joes-crab-shack\">Joe's Crab Shack</a> <a class=\"btn btn-lg btn-primary\" href=\"/restaurants/kfc\">KFC</a> <a class=\"btn btn-lg btn-primary\" href=\"/restaurants/mcdonalds\">McDonald's</a> <a class=\"btn btn-lg btn-primary\" href=\"/restaurants/ocharleys\">O'Charley's</a> <a class=\"btn btn-lg btn-primary\" href=\"/restaurants/olive-garden\">Olive Garden</a> <a class=\"btn btn-lg btn-primary\" href=\"/restaurants/outback-steakhouse\">Outback Steakhouse</a> <a class=\"btn btn-lg btn-primary\" href=\"/restaurants/panda-express\">Panda Express</a> <a class=\"btn btn-lg btn-primary\" href=\"/restaurants/panera-bread\">Panera Bread</a> <a class=\"btn btn-lg btn-primary\" href=\"/restaurants/popeyes\">Popeye's</a> <a class=\"btn btn-lg btn-primary\" href=\"/restaurants/quiznos\">Quiznos</a> <a class=\"btn btn-lg btn-primary\" href=\"/restaurants/red-robin-gourmet-burgers\">Red Robin Gourmet Burgers</a> <a class=\"btn btn-lg btn-primary\" href=\"/restaurants/romanos-macaroni-grill\">Romano's Macaroni Grill</a> <a class=\"btn btn-lg btn-primary\" href=\"/restaurants/ruby-tuesday\">Ruby Tuesday</a> <a class=\"btn btn-lg btn-primary\" href=\"/restaurants/subway\">Subway</a> <a class=\"btn btn-lg btn-primary\" href=\"/restaurants/taco-bell\">Taco Bell</a> <a class=\"btn btn-lg btn-primary\" href=\"/restaurants/taco-bueno\">Taco Bueno</a> <a class=\"btn btn-lg btn-primary\" href=\"/restaurants/wendys\">Wendy's</a> </div>\n",
       "</div>\n",
       "</div>\n",
       "</div>\n",
       "<div class=\"footer\">\n",
       "<div class=\"container\">\n",
       "<div class=\"row\">\n",
       "<div class=\"col-md-6\">\n",
       "        Copyright 2008-2019, CubbyGrub. <br/>\n",
       "        All rights reserved. A <a href=\"http://trailerparkmedia.com\" target=\"_blank\">Trailer Park Media, LLC</a> production. \n",
       "      </div><!--// .col-md-6 -->\n",
       "<div class=\"col-md-6\">\n",
       "<div class=\"menu-main-navigation-container\"><ul class=\"nav-pills nav pull-right\" id=\"menu-main-navigation-1\"><li class=\"menu-item menu-item-type-post_type menu-item-object-page menu-item-home current-menu-item page_item page-item-9 current_page_item menu-item-11\"><a href=\"http://chubbygrub.com/\">Home</a></li>\n",
       "<li class=\"menu-item menu-item-type-post_type menu-item-object-page menu-item-12\"><a href=\"http://chubbygrub.com/categories/\">Categories</a></li>\n",
       "<li class=\"menu-item menu-item-type-post_type menu-item-object-page menu-item-13\"><a href=\"http://chubbygrub.com/restaurants/\">Restaurants</a></li>\n",
       "</ul></div> </div><!--// .col-md-6 -->\n",
       "</div><!--// .row -->\n",
       "</div>\n",
       "</div>\n",
       "<img alt=\"\" src=\"http://chubbygrub.com/wp-content/themes/chubbygrub-2/images/cartoon.png\" style=\"display: none;\"/>\n",
       "<script src=\"http://chubbygrub.com/wp-includes/js/wp-embed.min.js?ver=4.7.13\" type=\"text/javascript\"></script>\n",
       "<script type=\"text/javascript\">\n",
       "\n",
       "  var _gaq = _gaq || [];\n",
       "  _gaq.push(['_setAccount', 'UA-18489272-5']);\n",
       "  if(typeof(_vis_opt_GA_track) == \"function\") { _vis_opt_GA_track(); }\n",
       "  _gaq.push(['_trackPageview']);\n",
       "\n",
       "  (function() {\n",
       "    var ga = document.createElement('script'); ga.type = 'text/javascript'; ga.async = true;\n",
       "    ga.src = ('https:' == document.location.protocol ? 'https://ssl' : 'http://www') + '.google-analytics.com/ga.js';\n",
       "    var s = document.getElementsByTagName('script')[0]; s.parentNode.insertBefore(ga, s);\n",
       "  })();\n",
       "\n",
       "</script>\n",
       "<script type=\"text/javascript\">\n",
       "  var uvOptions = {};\n",
       "  (function() {\n",
       "    var uv = document.createElement('script'); uv.type = 'text/javascript'; uv.async = true;\n",
       "    uv.src = ('https:' == document.location.protocol ? 'https://' : 'http://') + 'widget.uservoice.com/MSut4xiiltFE4E7ZPSn6ZQ.js';\n",
       "    var s = document.getElementsByTagName('script')[0]; s.parentNode.insertBefore(uv, s);\n",
       "  })();\n",
       "</script>\n",
       "<div id=\"fb-root\"></div>\n",
       "<script>(function(d, s, id) {\n",
       "  var js, fjs = d.getElementsByTagName(s)[0];\n",
       "  if (d.getElementById(id)) return;\n",
       "  js = d.createElement(s); js.id = id;\n",
       "  js.src = \"//connect.facebook.net/en_US/all.js#xfbml=1&appId=237105999683821\";\n",
       "  fjs.parentNode.insertBefore(js, fjs);\n",
       "}(document, 'script', 'facebook-jssdk'));</script>\n",
       "<script src=\"http://chubbygrub.com/wp-content/themes/chubbygrub-2/js/scrollreveal.js\"></script>\n",
       "<script>\n",
       "  window.scrollReveal = new scrollReveal();\n",
       "</script>\n",
       "<!-- Hello Bar -->\n",
       "<script src=\"//s3.amazonaws.com/scripts.hellobar.com/a050fff4598edf6df551a83c01d66865c6892a8b.js\" type=\"text/javascript\"></script>\n",
       "</body>"
      ]
     },
     "execution_count": 6,
     "metadata": {},
     "output_type": "execute_result"
    }
   ],
   "source": [
    "soup.body"
   ]
  },
  {
   "cell_type": "code",
   "execution_count": 7,
   "metadata": {},
   "outputs": [
    {
     "data": {
      "text/plain": [
       "<!DOCTYPE HTML>\n",
       "<!--[if lt IE 7 ]> <html lang=\"en\" class=\"no-js ie6\"> <![endif]--><!--[if IE 7 ]>    <html lang=\"en\" class=\"no-js ie7\"> <![endif]--><!--[if IE 8 ]>    <html lang=\"en\" class=\"no-js ie8\"> <![endif]--><!--[if IE 9 ]>    <html lang=\"en\" class=\"no-js ie9\"> <![endif]--><!--[if (gt IE 9)|!(IE)]><!--><html class=\"no-js\" lang=\"en\"> <!--<![endif]-->\n",
       "<head>\n",
       "<meta content=\"text/html; charset=utf-8\" http-equiv=\"Content-Type\"/>\n",
       "<title>Restaurant Nutrition | Chubbygrub</title>\n",
       "<link href=\"http://fonts.googleapis.com/css?family=Bangers\" rel=\"stylesheet\" type=\"text/css\"/>\n",
       "<link href=\"http://chubbygrub.com/wp-content/themes/chubbygrub-2/css/bootstrap.css\" media=\"screen\" rel=\"stylesheet\"/>\n",
       "<link href=\"http://chubbygrub.com/wp-content/themes/chubbygrub-2/style.css\" media=\"all\" rel=\"stylesheet\"/>\n",
       "<script src=\"http://chubbygrub.com/wp-content/themes/chubbygrub-2/js/jquery.min.js\"></script>\n",
       "<script src=\"http://chubbygrub.com/wp-content/themes/chubbygrub-2/js/bootstrap.js\"></script>\n",
       "<script src=\"http://chubbygrub.com/wp-content/themes/chubbygrub-2/js/scripts.js\"></script>\n",
       "<!-- This site is optimized with the Yoast WordPress SEO plugin v1.7.4 - https://yoast.com/wordpress/plugins/seo/ -->\n",
       "<meta content=\"Chubbygrub provides nutrition data (calories, fat and carbs) from your favorite restaurants.\" name=\"description\"/>\n",
       "<link href=\"http://chubbygrub.com/\" rel=\"canonical\"/>\n",
       "<script type=\"application/ld+json\">{ \"@context\": \"http://schema.org\", \"@type\": \"WebSite\", \"url\": \"http://chubbygrub.com/\", \"potentialAction\": { \"@type\": \"SearchAction\", \"target\": \"http://chubbygrub.com/?s={search_term}\", \"query-input\": \"required name=search_term\" } }</script>\n",
       "<!-- / Yoast WordPress SEO plugin. -->\n",
       "<link href=\"//s.w.org\" rel=\"dns-prefetch\"/>\n",
       "<link href=\"http://chubbygrub.com/why-chubbygrub/feed/\" rel=\"alternate\" title=\"Nutrition Information From Your Favorite Restaurants - ChubbyGrub » Nutrition information from your favorite restaurants…all in one place! Comments Feed\" type=\"application/rss+xml\"/>\n",
       "<script type=\"text/javascript\">\n",
       "\t\t\twindow._wpemojiSettings = {\"baseUrl\":\"https:\\/\\/s.w.org\\/images\\/core\\/emoji\\/2.2.1\\/72x72\\/\",\"ext\":\".png\",\"svgUrl\":\"https:\\/\\/s.w.org\\/images\\/core\\/emoji\\/2.2.1\\/svg\\/\",\"svgExt\":\".svg\",\"source\":{\"concatemoji\":\"http:\\/\\/chubbygrub.com\\/wp-includes\\/js\\/wp-emoji-release.min.js?ver=4.7.13\"}};\n",
       "\t\t\t!function(a,b,c){function d(a){var b,c,d,e,f=String.fromCharCode;if(!k||!k.fillText)return!1;switch(k.clearRect(0,0,j.width,j.height),k.textBaseline=\"top\",k.font=\"600 32px Arial\",a){case\"flag\":return k.fillText(f(55356,56826,55356,56819),0,0),!(j.toDataURL().length<3e3)&&(k.clearRect(0,0,j.width,j.height),k.fillText(f(55356,57331,65039,8205,55356,57096),0,0),b=j.toDataURL(),k.clearRect(0,0,j.width,j.height),k.fillText(f(55356,57331,55356,57096),0,0),c=j.toDataURL(),b!==c);case\"emoji4\":return k.fillText(f(55357,56425,55356,57341,8205,55357,56507),0,0),d=j.toDataURL(),k.clearRect(0,0,j.width,j.height),k.fillText(f(55357,56425,55356,57341,55357,56507),0,0),e=j.toDataURL(),d!==e}return!1}function e(a){var c=b.createElement(\"script\");c.src=a,c.defer=c.type=\"text/javascript\",b.getElementsByTagName(\"head\")[0].appendChild(c)}var f,g,h,i,j=b.createElement(\"canvas\"),k=j.getContext&&j.getContext(\"2d\");for(i=Array(\"flag\",\"emoji4\"),c.supports={everything:!0,everythingExceptFlag:!0},h=0;h<i.length;h++)c.supports[i[h]]=d(i[h]),c.supports.everything=c.supports.everything&&c.supports[i[h]],\"flag\"!==i[h]&&(c.supports.everythingExceptFlag=c.supports.everythingExceptFlag&&c.supports[i[h]]);c.supports.everythingExceptFlag=c.supports.everythingExceptFlag&&!c.supports.flag,c.DOMReady=!1,c.readyCallback=function(){c.DOMReady=!0},c.supports.everything||(g=function(){c.readyCallback()},b.addEventListener?(b.addEventListener(\"DOMContentLoaded\",g,!1),a.addEventListener(\"load\",g,!1)):(a.attachEvent(\"onload\",g),b.attachEvent(\"onreadystatechange\",function(){\"complete\"===b.readyState&&c.readyCallback()})),f=c.source||{},f.concatemoji?e(f.concatemoji):f.wpemoji&&f.twemoji&&(e(f.twemoji),e(f.wpemoji)))}(window,document,window._wpemojiSettings);\n",
       "\t\t</script>\n",
       "<style type=\"text/css\">\n",
       "img.wp-smiley,\n",
       "img.emoji {\n",
       "\tdisplay: inline !important;\n",
       "\tborder: none !important;\n",
       "\tbox-shadow: none !important;\n",
       "\theight: 1em !important;\n",
       "\twidth: 1em !important;\n",
       "\tmargin: 0 .07em !important;\n",
       "\tvertical-align: -0.1em !important;\n",
       "\tbackground: none !important;\n",
       "\tpadding: 0 !important;\n",
       "}\n",
       "</style>\n",
       "<link href=\"http://chubbygrub.com/wp-json/\" rel=\"https://api.w.org/\"/>\n",
       "<link href=\"http://chubbygrub.com/xmlrpc.php?rsd\" rel=\"EditURI\" title=\"RSD\" type=\"application/rsd+xml\"/>\n",
       "<link href=\"http://chubbygrub.com/wp-includes/wlwmanifest.xml\" rel=\"wlwmanifest\" type=\"application/wlwmanifest+xml\"/>\n",
       "<meta content=\"WordPress 4.7.13\" name=\"generator\"/>\n",
       "<link href=\"http://chubbygrub.com/\" rel=\"shortlink\"/>\n",
       "<link href=\"http://chubbygrub.com/wp-json/oembed/1.0/embed?url=http%3A%2F%2Fchubbygrub.com%2F\" rel=\"alternate\" type=\"application/json+oembed\"/>\n",
       "<link href=\"http://chubbygrub.com/wp-json/oembed/1.0/embed?url=http%3A%2F%2Fchubbygrub.com%2F&amp;format=xml\" rel=\"alternate\" type=\"text/xml+oembed\"/>\n",
       "<script async=\"\" data-sumo-site-id=\"ab5132b4d7541c24c9a6fd0189778d9d7895d331283e42b11817f5ef25ac063b\" src=\"//load.sumome.com/\"></script>\n",
       "</head>\n",
       "<body class=\"home page-template-default page page-id-9\">\n",
       "<div class=\"header\">\n",
       "<div class=\"container\">\n",
       "<div class=\"row\">\n",
       "<div class=\"col-md-3\">\n",
       "<a href=\"http://chubbygrub.com\"><img alt=\"\" border=\"0\" height=\"50\" src=\"http://chubbygrub.com/wp-content/themes/chubbygrub-2/images/logo_chubbygrub.png\" width=\"210\"/></a>\n",
       "</div><!--// .col-md-3 -->\n",
       "<div class=\"col-md-9\">\n",
       "<div class=\"menu-main-navigation-container\"><ul class=\"nav-pills nav pull-right\" id=\"menu-main-navigation\"><li class=\"menu-item menu-item-type-post_type menu-item-object-page menu-item-home current-menu-item page_item page-item-9 current_page_item menu-item-11\" id=\"menu-item-11\"><a href=\"http://chubbygrub.com/\">Home</a></li>\n",
       "<li class=\"menu-item menu-item-type-post_type menu-item-object-page menu-item-12\" id=\"menu-item-12\"><a href=\"http://chubbygrub.com/categories/\">Categories</a></li>\n",
       "<li class=\"menu-item menu-item-type-post_type menu-item-object-page menu-item-13\" id=\"menu-item-13\"><a href=\"http://chubbygrub.com/restaurants/\">Restaurants</a></li>\n",
       "</ul></div> </div><!--// .col-md-9 -->\n",
       "</div><!--// .row -->\n",
       "</div>\n",
       "</div>\n",
       "<div class=\"front-page-hero\">\n",
       "<div class=\"container\">\n",
       "<div class=\"row\">\n",
       "<div class=\"col-md-7 col-md-offset-1\">\n",
       "<div data-scroll-reveal=\"enter from the left after 1s\">\n",
       "<h1>Nutrition information from your favorite restaurants…all in one place!</h1>\n",
       "</div>\n",
       "</div>\n",
       "<div class=\"col-md-3\">\n",
       "<div data-scroll-reveal=\"enter from the right after 1s\">\n",
       "<img src=\"http://chubbygrub.com/wp-content/themes/chubbygrub-2/images/cartoon.png\"/>\n",
       "</div>\n",
       "</div>\n",
       "</div>\n",
       "</div>\n",
       "</div>\n",
       "<div style=\"text-align: center;\">\n",
       "<script async=\"\" src=\"//pagead2.googlesyndication.com/pagead/js/adsbygoogle.js\"></script>\n",
       "<ins class=\"adsbygoogle\" data-ad-client=\"ca-pub-0822770560731967\" data-ad-slot=\"4157356813\" style=\"display:inline-block;width:728px;height:90px\"></ins>\n",
       "<script>\n",
       "  (adsbygoogle = window.adsbygoogle || []).push({});\n",
       "  </script>\n",
       "</div>\n",
       "<div class=\"container\">\n",
       "<div class=\"row\">\n",
       "<div class=\"col-md-12\">\n",
       "<div class=\"restaurant-buttons\">\n",
       "<br/>\n",
       "<br/>\n",
       "<br/>\n",
       "<br/>\n",
       "<br/>\n",
       "<br/>\n",
       "<div class=\"form-group has-warning\">\n",
       "<input autofocus=\"true\" class=\"form-control input-lg\" data-content=\"The results below will narrow down according to your search\" data-placement=\"top\" data-title=\"Type a Restaurant or Category\" id=\"restaurant-field\" placeholder=\"e.g. McDonald's\" type=\"text\"/>\n",
       "</div>\n",
       "<a class=\"btn btn-lg btn-primary\" href=\"/restaurants/aw-restaurants\">A&amp;W Restaurants</a> <a class=\"btn btn-lg btn-primary\" href=\"/restaurants/applebees\">Applebee's</a> <a class=\"btn btn-lg btn-primary\" href=\"/restaurants/arbys\">Arby's</a> <a class=\"btn btn-lg btn-primary\" href=\"/restaurants/atlanta-bread-company\">Atlanta Bread Company</a> <a class=\"btn btn-lg btn-primary\" href=\"/restaurants/bojangles-famous-chicken-n-biscuits\">Bojangle's Famous Chicken 'n Biscuits</a> <a class=\"btn btn-lg btn-primary\" href=\"/restaurants/buffalo-wild-wings\">Buffalo Wild Wings</a> <a class=\"btn btn-lg btn-primary\" href=\"/restaurants/burger-king\">Burger King</a> <a class=\"btn btn-lg btn-primary\" href=\"/restaurants/captain-ds\">Captain D's</a> <a class=\"btn btn-lg btn-primary\" href=\"/restaurants/carls-jr\">Carl's Jr.</a> <a class=\"btn btn-lg btn-primary\" href=\"/restaurants/charleys-grilled-subs\">Charley's Grilled Subs</a> <a class=\"btn btn-lg btn-primary\" href=\"/restaurants/chick-fil-a\">Chick-fil-A</a> <a class=\"btn btn-lg btn-primary\" href=\"/restaurants/chilis\">Chili's</a> <a class=\"btn btn-lg btn-primary\" href=\"/restaurants/chipotle-mexican-grill\">Chipotle Mexican Grill</a> <a class=\"btn btn-lg btn-primary\" href=\"/restaurants/churchs\">Church's</a> <a class=\"btn btn-lg btn-primary\" href=\"/restaurants/corner-bakery-cafe\">Corner Bakery Cafe</a> <a class=\"btn btn-lg btn-primary\" href=\"/restaurants/dairy-queen\">Dairy Queen</a> <a class=\"btn btn-lg btn-primary\" href=\"/restaurants/dennys\">Denny's</a> <a class=\"btn btn-lg btn-primary\" href=\"/restaurants/el-pollo-loco\">El Pollo Loco</a> <a class=\"btn btn-lg btn-primary\" href=\"/restaurants/fatz\">FATZ</a> <a class=\"btn btn-lg btn-primary\" href=\"/restaurants/fazolis\">Fazoli's</a> <a class=\"btn btn-lg btn-primary\" href=\"/restaurants/five-guys-burgers-and-fries\">Five Guys Burgers and Fries</a> <a class=\"btn btn-lg btn-primary\" href=\"/restaurants/golden-chick\">Golden Chick</a> <a class=\"btn btn-lg btn-primary\" href=\"/restaurants/hardees\">Hardee's</a> <a class=\"btn btn-lg btn-primary\" href=\"/restaurants/ihop\">IHOP</a> <a class=\"btn btn-lg btn-primary\" href=\"/restaurants/in-n-out-burger\">In-N-Out Burger</a> <a class=\"btn btn-lg btn-primary\" href=\"/restaurants/jack-in-the-box\">Jack in the Box</a> <a class=\"btn btn-lg btn-primary\" href=\"/restaurants/jimmy-johns\">Jimmy Johns</a> <a class=\"btn btn-lg btn-primary\" href=\"/restaurants/joes-crab-shack\">Joe's Crab Shack</a> <a class=\"btn btn-lg btn-primary\" href=\"/restaurants/kfc\">KFC</a> <a class=\"btn btn-lg btn-primary\" href=\"/restaurants/mcdonalds\">McDonald's</a> <a class=\"btn btn-lg btn-primary\" href=\"/restaurants/ocharleys\">O'Charley's</a> <a class=\"btn btn-lg btn-primary\" href=\"/restaurants/olive-garden\">Olive Garden</a> <a class=\"btn btn-lg btn-primary\" href=\"/restaurants/outback-steakhouse\">Outback Steakhouse</a> <a class=\"btn btn-lg btn-primary\" href=\"/restaurants/panda-express\">Panda Express</a> <a class=\"btn btn-lg btn-primary\" href=\"/restaurants/panera-bread\">Panera Bread</a> <a class=\"btn btn-lg btn-primary\" href=\"/restaurants/popeyes\">Popeye's</a> <a class=\"btn btn-lg btn-primary\" href=\"/restaurants/quiznos\">Quiznos</a> <a class=\"btn btn-lg btn-primary\" href=\"/restaurants/red-robin-gourmet-burgers\">Red Robin Gourmet Burgers</a> <a class=\"btn btn-lg btn-primary\" href=\"/restaurants/romanos-macaroni-grill\">Romano's Macaroni Grill</a> <a class=\"btn btn-lg btn-primary\" href=\"/restaurants/ruby-tuesday\">Ruby Tuesday</a> <a class=\"btn btn-lg btn-primary\" href=\"/restaurants/subway\">Subway</a> <a class=\"btn btn-lg btn-primary\" href=\"/restaurants/taco-bell\">Taco Bell</a> <a class=\"btn btn-lg btn-primary\" href=\"/restaurants/taco-bueno\">Taco Bueno</a> <a class=\"btn btn-lg btn-primary\" href=\"/restaurants/wendys\">Wendy's</a> </div>\n",
       "</div>\n",
       "</div>\n",
       "</div>\n",
       "<div class=\"footer\">\n",
       "<div class=\"container\">\n",
       "<div class=\"row\">\n",
       "<div class=\"col-md-6\">\n",
       "        Copyright 2008-2019, CubbyGrub. <br/>\n",
       "        All rights reserved. A <a href=\"http://trailerparkmedia.com\" target=\"_blank\">Trailer Park Media, LLC</a> production. \n",
       "      </div><!--// .col-md-6 -->\n",
       "<div class=\"col-md-6\">\n",
       "<div class=\"menu-main-navigation-container\"><ul class=\"nav-pills nav pull-right\" id=\"menu-main-navigation-1\"><li class=\"menu-item menu-item-type-post_type menu-item-object-page menu-item-home current-menu-item page_item page-item-9 current_page_item menu-item-11\"><a href=\"http://chubbygrub.com/\">Home</a></li>\n",
       "<li class=\"menu-item menu-item-type-post_type menu-item-object-page menu-item-12\"><a href=\"http://chubbygrub.com/categories/\">Categories</a></li>\n",
       "<li class=\"menu-item menu-item-type-post_type menu-item-object-page menu-item-13\"><a href=\"http://chubbygrub.com/restaurants/\">Restaurants</a></li>\n",
       "</ul></div> </div><!--// .col-md-6 -->\n",
       "</div><!--// .row -->\n",
       "</div>\n",
       "</div>\n",
       "<img alt=\"\" src=\"http://chubbygrub.com/wp-content/themes/chubbygrub-2/images/cartoon.png\" style=\"display: none;\"/>\n",
       "<script src=\"http://chubbygrub.com/wp-includes/js/wp-embed.min.js?ver=4.7.13\" type=\"text/javascript\"></script>\n",
       "<script type=\"text/javascript\">\n",
       "\n",
       "  var _gaq = _gaq || [];\n",
       "  _gaq.push(['_setAccount', 'UA-18489272-5']);\n",
       "  if(typeof(_vis_opt_GA_track) == \"function\") { _vis_opt_GA_track(); }\n",
       "  _gaq.push(['_trackPageview']);\n",
       "\n",
       "  (function() {\n",
       "    var ga = document.createElement('script'); ga.type = 'text/javascript'; ga.async = true;\n",
       "    ga.src = ('https:' == document.location.protocol ? 'https://ssl' : 'http://www') + '.google-analytics.com/ga.js';\n",
       "    var s = document.getElementsByTagName('script')[0]; s.parentNode.insertBefore(ga, s);\n",
       "  })();\n",
       "\n",
       "</script>\n",
       "<script type=\"text/javascript\">\n",
       "  var uvOptions = {};\n",
       "  (function() {\n",
       "    var uv = document.createElement('script'); uv.type = 'text/javascript'; uv.async = true;\n",
       "    uv.src = ('https:' == document.location.protocol ? 'https://' : 'http://') + 'widget.uservoice.com/MSut4xiiltFE4E7ZPSn6ZQ.js';\n",
       "    var s = document.getElementsByTagName('script')[0]; s.parentNode.insertBefore(uv, s);\n",
       "  })();\n",
       "</script>\n",
       "<div id=\"fb-root\"></div>\n",
       "<script>(function(d, s, id) {\n",
       "  var js, fjs = d.getElementsByTagName(s)[0];\n",
       "  if (d.getElementById(id)) return;\n",
       "  js = d.createElement(s); js.id = id;\n",
       "  js.src = \"//connect.facebook.net/en_US/all.js#xfbml=1&appId=237105999683821\";\n",
       "  fjs.parentNode.insertBefore(js, fjs);\n",
       "}(document, 'script', 'facebook-jssdk'));</script>\n",
       "<script src=\"http://chubbygrub.com/wp-content/themes/chubbygrub-2/js/scrollreveal.js\"></script>\n",
       "<script>\n",
       "  window.scrollReveal = new scrollReveal();\n",
       "</script>\n",
       "<!-- Hello Bar -->\n",
       "<script src=\"//s3.amazonaws.com/scripts.hellobar.com/a050fff4598edf6df551a83c01d66865c6892a8b.js\" type=\"text/javascript\"></script>\n",
       "</body>\n",
       "</html>"
      ]
     },
     "execution_count": 7,
     "metadata": {},
     "output_type": "execute_result"
    }
   ],
   "source": [
    "soup.extract()"
   ]
  },
  {
   "cell_type": "markdown",
   "metadata": {},
   "source": [
    "### Step 2: Scrape the home page soup for every restaurant\n",
    "\n",
    "Note: Your best bet is to create a list of dictionaries, one for each restaurant. Each dictionary contains the restaurant's name and slug. The result of your scrape should look something like this:\n",
    "\n",
    "```python\n",
    "restaurants = [\n",
    "    {'name': 'A&W Restaurants', 'slug': 'aw-restaurants'}, \n",
    "    {'name': \"Applebee's\", 'slug': 'applebees'},\n",
    "    ...\n",
    "]\n",
    "```"
   ]
  },
  {
   "cell_type": "code",
   "execution_count": 8,
   "metadata": {},
   "outputs": [
    {
     "data": {
      "text/plain": [
       "[{'name': 'A&W Restaurants', 'slug': 'aw-restaurants'},\n",
       " {'name': \"Applebee's\", 'slug': 'applebees'},\n",
       " {'name': \"Arby's\", 'slug': 'arbys'},\n",
       " {'name': 'Atlanta Bread Company', 'slug': 'atlanta-bread-company'},\n",
       " {'name': \"Bojangle's Famous Chicken 'n Biscuits\",\n",
       "  'slug': 'bojangles-famous-chicken-n-biscuits'},\n",
       " {'name': 'Buffalo Wild Wings', 'slug': 'buffalo-wild-wings'},\n",
       " {'name': 'Burger King', 'slug': 'burger-king'},\n",
       " {'name': \"Captain D's\", 'slug': 'captain-ds'},\n",
       " {'name': \"Carl's Jr.\", 'slug': 'carls-jr'},\n",
       " {'name': \"Charley's Grilled Subs\", 'slug': 'charleys-grilled-subs'},\n",
       " {'name': 'Chick-fil-A', 'slug': 'chick-fil-a'},\n",
       " {'name': \"Chili's\", 'slug': 'chilis'},\n",
       " {'name': 'Chipotle Mexican Grill', 'slug': 'chipotle-mexican-grill'},\n",
       " {'name': \"Church's\", 'slug': 'churchs'},\n",
       " {'name': 'Corner Bakery Cafe', 'slug': 'corner-bakery-cafe'},\n",
       " {'name': 'Dairy Queen', 'slug': 'dairy-queen'},\n",
       " {'name': \"Denny's\", 'slug': 'dennys'},\n",
       " {'name': 'El Pollo Loco', 'slug': 'el-pollo-loco'},\n",
       " {'name': 'FATZ', 'slug': 'fatz'},\n",
       " {'name': \"Fazoli's\", 'slug': 'fazolis'},\n",
       " {'name': 'Five Guys Burgers and Fries',\n",
       "  'slug': 'five-guys-burgers-and-fries'},\n",
       " {'name': 'Golden Chick', 'slug': 'golden-chick'},\n",
       " {'name': \"Hardee's\", 'slug': 'hardees'},\n",
       " {'name': 'IHOP', 'slug': 'ihop'},\n",
       " {'name': 'In-N-Out Burger', 'slug': 'in-n-out-burger'},\n",
       " {'name': 'Jack in the Box', 'slug': 'jack-in-the-box'},\n",
       " {'name': 'Jimmy Johns', 'slug': 'jimmy-johns'},\n",
       " {'name': \"Joe's Crab Shack\", 'slug': 'joes-crab-shack'},\n",
       " {'name': 'KFC', 'slug': 'kfc'},\n",
       " {'name': \"McDonald's\", 'slug': 'mcdonalds'},\n",
       " {'name': \"O'Charley's\", 'slug': 'ocharleys'},\n",
       " {'name': 'Olive Garden', 'slug': 'olive-garden'},\n",
       " {'name': 'Outback Steakhouse', 'slug': 'outback-steakhouse'},\n",
       " {'name': 'Panda Express', 'slug': 'panda-express'},\n",
       " {'name': 'Panera Bread', 'slug': 'panera-bread'},\n",
       " {'name': \"Popeye's\", 'slug': 'popeyes'},\n",
       " {'name': 'Quiznos', 'slug': 'quiznos'},\n",
       " {'name': 'Red Robin Gourmet Burgers', 'slug': 'red-robin-gourmet-burgers'},\n",
       " {'name': \"Romano's Macaroni Grill\", 'slug': 'romanos-macaroni-grill'},\n",
       " {'name': 'Ruby Tuesday', 'slug': 'ruby-tuesday'},\n",
       " {'name': 'Subway', 'slug': 'subway'},\n",
       " {'name': 'Taco Bell', 'slug': 'taco-bell'},\n",
       " {'name': 'Taco Bueno', 'slug': 'taco-bueno'},\n",
       " {'name': \"Wendy's\", 'slug': 'wendys'}]"
      ]
     },
     "execution_count": 8,
     "metadata": {},
     "output_type": "execute_result"
    }
   ],
   "source": [
    "restaurants_section = soup.find('div', {'class': 'restaurant-buttons'})\n",
    "\n",
    "restaurants = []\n",
    "\n",
    "for restaurant_link in restaurants_section.find_all('a', {'class': 'btn btn-lg btn-primary'}):\n",
    "    restaurant = {}\n",
    "    restaurant['name'] = restaurant_link.text\n",
    "    restaurant['slug'] = restaurant_link['href'].split('/')[-1]\n",
    "    restaurants.append(restaurant)\n",
    "restaurants"
   ]
  },
  {
   "cell_type": "markdown",
   "metadata": {},
   "source": [
    "### Step 3: Using the slug, scrape each restaurant's page and create a single list of food dictionaries.\n",
    "\n",
    "Your list of foods should look something like this:\n",
    "```python\n",
    "foods = [\n",
    "    {\n",
    "        'calories': '0',\n",
    "        'carbs': '0',\n",
    "        'category': 'Drinks',\n",
    "        'fat': '0',\n",
    "        'name': 'A&W® Diet Root Beer',\n",
    "        'restaurant': 'A&W Restaurants'\n",
    "    },\n",
    "    {\n",
    "        'calories': '0',\n",
    "        'carbs': '0',\n",
    "        'category': 'Drinks',\n",
    "        'fat': '0',\n",
    "        'name': 'A&W® Diet Root Beer',\n",
    "        'restaurant': 'A&W Restaurants'\n",
    "    },\n",
    "    ...\n",
    "]\n",
    "```\n",
    "\n",
    "**Note**: Remove extra white space from each category"
   ]
  },
  {
   "cell_type": "code",
   "execution_count": 19,
   "metadata": {},
   "outputs": [
    {
     "data": {
      "text/plain": [
       "[]"
      ]
     },
     "execution_count": 19,
     "metadata": {},
     "output_type": "execute_result"
    }
   ],
   "source": [
    "soup.body.find_all('table', {'id':'items'})\n",
    "#identify tag and see what i SHOULD "
   ]
  },
  {
   "cell_type": "code",
   "execution_count": 10,
   "metadata": {},
   "outputs": [
    {
     "name": "stdout",
     "output_type": "stream",
     "text": [
      "Scraping A&W Restaurants\n"
     ]
    },
    {
     "ename": "AttributeError",
     "evalue": "ResultSet object has no attribute 'find'. You're probably treating a list of items like a single item. Did you call find_all() when you meant to call find()?",
     "output_type": "error",
     "traceback": [
      "\u001b[1;31m---------------------------------------------------------------------------\u001b[0m",
      "\u001b[1;31mAttributeError\u001b[0m                            Traceback (most recent call last)",
      "\u001b[1;32m<ipython-input-10-2ff18e0174f3>\u001b[0m in \u001b[0;36m<module>\u001b[1;34m\u001b[0m\n\u001b[0;32m     13\u001b[0m \u001b[1;33m\u001b[0m\u001b[0m\n\u001b[0;32m     14\u001b[0m     \u001b[1;31m# Isolate the foods table from restaurant page\u001b[0m\u001b[1;33m\u001b[0m\u001b[1;33m\u001b[0m\u001b[1;33m\u001b[0m\u001b[0m\n\u001b[1;32m---> 15\u001b[1;33m     \u001b[0mtable\u001b[0m \u001b[1;33m=\u001b[0m \u001b[0mrestaurant_soup\u001b[0m\u001b[1;33m.\u001b[0m\u001b[0mfind\u001b[0m\u001b[1;33m(\u001b[0m\u001b[1;34m'table'\u001b[0m\u001b[1;33m,\u001b[0m \u001b[1;33m{\u001b[0m\u001b[1;34m'id'\u001b[0m\u001b[1;33m:\u001b[0m \u001b[1;34m'items'\u001b[0m\u001b[1;33m}\u001b[0m\u001b[1;33m)\u001b[0m\u001b[1;33m\u001b[0m\u001b[1;33m\u001b[0m\u001b[0m\n\u001b[0m\u001b[0;32m     16\u001b[0m \u001b[1;33m\u001b[0m\u001b[0m\n\u001b[0;32m     17\u001b[0m     \u001b[1;31m# Loop through each row in the tbody of the restaurants table\u001b[0m\u001b[1;33m\u001b[0m\u001b[1;33m\u001b[0m\u001b[1;33m\u001b[0m\u001b[0m\n",
      "\u001b[1;32m~\\Anaconda3\\lib\\site-packages\\bs4\\element.py\u001b[0m in \u001b[0;36m__getattr__\u001b[1;34m(self, key)\u001b[0m\n\u001b[0;32m   1618\u001b[0m     \u001b[1;32mdef\u001b[0m \u001b[0m__getattr__\u001b[0m\u001b[1;33m(\u001b[0m\u001b[0mself\u001b[0m\u001b[1;33m,\u001b[0m \u001b[0mkey\u001b[0m\u001b[1;33m)\u001b[0m\u001b[1;33m:\u001b[0m\u001b[1;33m\u001b[0m\u001b[1;33m\u001b[0m\u001b[0m\n\u001b[0;32m   1619\u001b[0m         raise AttributeError(\n\u001b[1;32m-> 1620\u001b[1;33m             \u001b[1;34m\"ResultSet object has no attribute '%s'. You're probably treating a list of items like a single item. Did you call find_all() when you meant to call find()?\"\u001b[0m \u001b[1;33m%\u001b[0m \u001b[0mkey\u001b[0m\u001b[1;33m\u001b[0m\u001b[1;33m\u001b[0m\u001b[0m\n\u001b[0m\u001b[0;32m   1621\u001b[0m         )\n",
      "\u001b[1;31mAttributeError\u001b[0m: ResultSet object has no attribute 'find'. You're probably treating a list of items like a single item. Did you call find_all() when you meant to call find()?"
     ]
    }
   ],
   "source": [
    "foods = []\n",
    "\n",
    "for restaurant in restaurants:\n",
    "    print('Scraping {}'.format(restaurant['name']))\n",
    "    \n",
    "    restaurant_res = requests.get('http://chubbygrub.com/restaurants/{}'.format(restaurant['slug']))\n",
    "    \n",
    "    restaurant_soup = soup(restaurant_res.content, 'lxml')\n",
    "    \n",
    "    table = restaurant_soup.find('table', {'id': 'items'})\n",
    "    \n",
    "    for row in table.find('tbody').find_all('tr'):\n",
    "        cells = row.find_all('td')\n",
    "        food = {}\n",
    "        food['restaurant'] = restaurant['name']\n",
    "        food['name'] = cells[0].text\n",
    "        food['category'] = cells[1].text.strip()\n",
    "        food['calories'] = cells[2].text\n",
    "        food['fat'] = cells[3].text\n",
    "        food['carbs'] = cells[4].text\n",
    "        foods.append(food)"
   ]
  },
  {
   "cell_type": "code",
   "execution_count": 41,
   "metadata": {},
   "outputs": [
    {
     "data": {
      "text/plain": [
       "NoneType"
      ]
     },
     "execution_count": 41,
     "metadata": {},
     "output_type": "execute_result"
    }
   ],
   "source": [
    "type(table)"
   ]
  },
  {
   "cell_type": "markdown",
   "metadata": {},
   "source": [
    "### Step 4: Create a pandas DataFrame from your list of foods\n",
    "\n",
    "**Note**: Your DataFrame should have 4,977 rows"
   ]
  },
  {
   "cell_type": "code",
   "execution_count": null,
   "metadata": {},
   "outputs": [],
   "source": [
    "food['restaurant'] = restaurant['name']\n",
    "        food['name'] = row.find('td', {'itemprop': 'name'}).text\n",
    "        food['category'] = row.find('a').text\n",
    "        food['calories'] = row.find('td', {'itemprop': 'calories'}).text\n",
    "        food['fat'] = row.find('td', {'itemprop': 'fatContent'}).text\n",
    "        food['carbs']"
   ]
  },
  {
   "cell_type": "code",
   "execution_count": null,
   "metadata": {},
   "outputs": [],
   "source": [
    "raw_data = {foods}"
   ]
  },
  {
   "cell_type": "code",
   "execution_count": null,
   "metadata": {},
   "outputs": [],
   "source": [
    "df = pd.DataFrame(raw_data, columns = ['restaurant', 'name', 'category', 'calories', 'fat'], ['carbs'])\n"
   ]
  },
  {
   "cell_type": "markdown",
   "metadata": {},
   "source": [
    "### Step 5: Export to csv\n",
    "\n",
    "**Note:** Don't export the index column from your DataFrame"
   ]
  },
  {
   "cell_type": "code",
   "execution_count": null,
   "metadata": {
    "collapsed": true
   },
   "outputs": [],
   "source": [
    "df.to_csv('chubbygrub.csv')\n"
   ]
  }
 ],
 "metadata": {
  "kernelspec": {
   "display_name": "Python 3",
   "language": "python",
   "name": "python3"
  },
  "language_info": {
   "codemirror_mode": {
    "name": "ipython",
    "version": 3
   },
   "file_extension": ".py",
   "mimetype": "text/x-python",
   "name": "python",
   "nbconvert_exporter": "python",
   "pygments_lexer": "ipython3",
   "version": "3.7.3"
  }
 },
 "nbformat": 4,
 "nbformat_minor": 2
}
