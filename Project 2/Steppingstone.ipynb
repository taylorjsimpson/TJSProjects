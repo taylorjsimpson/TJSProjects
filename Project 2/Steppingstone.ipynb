{
 "cells": [
  {
   "cell_type": "code",
   "execution_count": 1,
   "metadata": {},
   "outputs": [],
   "source": [
    "import pandas as pd\n",
    "import seaborn as sns\n",
    "import matplotlib.pyplot as plt"
   ]
  },
  {
   "cell_type": "code",
   "execution_count": null,
   "metadata": {},
   "outputs": [],
   "source": [
    "from sklearn import metrics\n",
    "from sklearn.linear_model import LinearRegression"
   ]
  },
  {
   "cell_type": "code",
   "execution_count": 2,
   "metadata": {},
   "outputs": [],
   "source": [
    "df = pd.read_csv(\"C:\\\\Users\\\\taylo\\\\Desktop\\\\GA\\\\DSI_Assignments_New\\\\Steppingstone\\\\Steppingstone.csv\")"
   ]
  },
  {
   "cell_type": "code",
   "execution_count": null,
   "metadata": {},
   "outputs": [],
   "source": [
    "df.head()"
   ]
  },
  {
   "cell_type": "code",
   "execution_count": 4,
   "metadata": {},
   "outputs": [
    {
     "data": {
      "text/html": [
       "<div>\n",
       "<style scoped>\n",
       "    .dataframe tbody tr th:only-of-type {\n",
       "        vertical-align: middle;\n",
       "    }\n",
       "\n",
       "    .dataframe tbody tr th {\n",
       "        vertical-align: top;\n",
       "    }\n",
       "\n",
       "    .dataframe thead th {\n",
       "        text-align: right;\n",
       "    }\n",
       "</style>\n",
       "<table border=\"1\" class=\"dataframe\">\n",
       "  <thead>\n",
       "    <tr style=\"text-align: right;\">\n",
       "      <th></th>\n",
       "      <th>Student ID</th>\n",
       "      <th>Race</th>\n",
       "      <th>Gender</th>\n",
       "      <th>Income Range</th>\n",
       "      <th>1st Gen College Student?</th>\n",
       "      <th>ISEE MA Stanine</th>\n",
       "      <th>ISEE QR Stanine</th>\n",
       "      <th>ISEE RC Stanine</th>\n",
       "      <th>ISEE VR Stanine</th>\n",
       "      <th>MCAS English Level</th>\n",
       "      <th>MCAS Math Level</th>\n",
       "      <th>English Grade</th>\n",
       "      <th>Math Grade</th>\n",
       "    </tr>\n",
       "  </thead>\n",
       "  <tbody>\n",
       "    <tr>\n",
       "      <th>0</th>\n",
       "      <td>1</td>\n",
       "      <td>Black</td>\n",
       "      <td>M</td>\n",
       "      <td>2</td>\n",
       "      <td>1</td>\n",
       "      <td>3</td>\n",
       "      <td>5</td>\n",
       "      <td>8</td>\n",
       "      <td>7</td>\n",
       "      <td>Meeting Expectations</td>\n",
       "      <td>Partially Meeting Expectations</td>\n",
       "      <td>3.4</td>\n",
       "      <td>3.0</td>\n",
       "    </tr>\n",
       "    <tr>\n",
       "      <th>1</th>\n",
       "      <td>2</td>\n",
       "      <td>Asian</td>\n",
       "      <td>F</td>\n",
       "      <td>1</td>\n",
       "      <td>1</td>\n",
       "      <td>6</td>\n",
       "      <td>5</td>\n",
       "      <td>5</td>\n",
       "      <td>4</td>\n",
       "      <td>Meeting Expectations</td>\n",
       "      <td>Exceeding Expectations</td>\n",
       "      <td>3.0</td>\n",
       "      <td>3.3</td>\n",
       "    </tr>\n",
       "    <tr>\n",
       "      <th>2</th>\n",
       "      <td>3</td>\n",
       "      <td>Black</td>\n",
       "      <td>F</td>\n",
       "      <td>2</td>\n",
       "      <td>0</td>\n",
       "      <td>4</td>\n",
       "      <td>3</td>\n",
       "      <td>4</td>\n",
       "      <td>5</td>\n",
       "      <td>Meeting Expectations</td>\n",
       "      <td>Meeting Expectations</td>\n",
       "      <td>3.7</td>\n",
       "      <td>3.7</td>\n",
       "    </tr>\n",
       "    <tr>\n",
       "      <th>3</th>\n",
       "      <td>4</td>\n",
       "      <td>Asian</td>\n",
       "      <td>M</td>\n",
       "      <td>1</td>\n",
       "      <td>1</td>\n",
       "      <td>4</td>\n",
       "      <td>3</td>\n",
       "      <td>4</td>\n",
       "      <td>1</td>\n",
       "      <td>Partially Meeting Expectations</td>\n",
       "      <td>Meeting Expectations</td>\n",
       "      <td>2.6</td>\n",
       "      <td>3.0</td>\n",
       "    </tr>\n",
       "    <tr>\n",
       "      <th>4</th>\n",
       "      <td>5</td>\n",
       "      <td>Asian</td>\n",
       "      <td>F</td>\n",
       "      <td>1</td>\n",
       "      <td>1</td>\n",
       "      <td>6</td>\n",
       "      <td>5</td>\n",
       "      <td>2</td>\n",
       "      <td>4</td>\n",
       "      <td>Meeting Expectations</td>\n",
       "      <td>Meeting Expectations</td>\n",
       "      <td>3.0</td>\n",
       "      <td>2.7</td>\n",
       "    </tr>\n",
       "  </tbody>\n",
       "</table>\n",
       "</div>"
      ],
      "text/plain": [
       "   Student ID   Race Gender  Income Range  1st Gen College Student?  \\\n",
       "0           1  Black      M             2                         1   \n",
       "1           2  Asian      F             1                         1   \n",
       "2           3  Black      F             2                         0   \n",
       "3           4  Asian      M             1                         1   \n",
       "4           5  Asian      F             1                         1   \n",
       "\n",
       "   ISEE MA Stanine  ISEE QR Stanine  ISEE RC Stanine  ISEE VR Stanine  \\\n",
       "0                3                5                8                7   \n",
       "1                6                5                5                4   \n",
       "2                4                3                4                5   \n",
       "3                4                3                4                1   \n",
       "4                6                5                2                4   \n",
       "\n",
       "               MCAS English Level                 MCAS Math Level  \\\n",
       "0            Meeting Expectations  Partially Meeting Expectations   \n",
       "1            Meeting Expectations          Exceeding Expectations   \n",
       "2            Meeting Expectations            Meeting Expectations   \n",
       "3  Partially Meeting Expectations            Meeting Expectations   \n",
       "4            Meeting Expectations            Meeting Expectations   \n",
       "\n",
       "   English Grade  Math Grade  \n",
       "0            3.4         3.0  \n",
       "1            3.0         3.3  \n",
       "2            3.7         3.7  \n",
       "3            2.6         3.0  \n",
       "4            3.0         2.7  "
      ]
     },
     "execution_count": 4,
     "metadata": {},
     "output_type": "execute_result"
    }
   ],
   "source": [
    "df.head()"
   ]
  },
  {
   "cell_type": "code",
   "execution_count": 6,
   "metadata": {},
   "outputs": [
    {
     "data": {
      "text/plain": [
       "0"
      ]
     },
     "execution_count": 6,
     "metadata": {},
     "output_type": "execute_result"
    }
   ],
   "source": [
    "df.isnull().sum().sum()"
   ]
  },
  {
   "cell_type": "code",
   "execution_count": 7,
   "metadata": {},
   "outputs": [
    {
     "data": {
      "text/plain": [
       "Student ID                    int64\n",
       "Race                         object\n",
       "Gender                       object\n",
       "Income Range                  int64\n",
       "1st Gen College Student?      int64\n",
       "ISEE MA Stanine               int64\n",
       "ISEE QR Stanine               int64\n",
       "ISEE RC Stanine               int64\n",
       "ISEE VR Stanine               int64\n",
       "MCAS English Level           object\n",
       "MCAS Math Level              object\n",
       "English Grade               float64\n",
       "Math Grade                  float64\n",
       "dtype: object"
      ]
     },
     "execution_count": 7,
     "metadata": {},
     "output_type": "execute_result"
    }
   ],
   "source": [
    "df.dtypes"
   ]
  },
  {
   "cell_type": "code",
   "execution_count": null,
   "metadata": {},
   "outputs": [],
   "source": []
  }
 ],
 "metadata": {
  "kernelspec": {
   "display_name": "Python [conda env:dsi]",
   "language": "python",
   "name": "conda-env-dsi-py"
  },
  "language_info": {
   "codemirror_mode": {
    "name": "ipython",
    "version": 3
   },
   "file_extension": ".py",
   "mimetype": "text/x-python",
   "name": "python",
   "nbconvert_exporter": "python",
   "pygments_lexer": "ipython3",
   "version": "3.7.3"
  }
 },
 "nbformat": 4,
 "nbformat_minor": 2
}
