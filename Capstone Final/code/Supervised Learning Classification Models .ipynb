{
 "cells": [
  {
   "cell_type": "markdown",
   "metadata": {},
   "source": [
    "# Logistic Regression Model"
   ]
  },
  {
   "cell_type": "code",
   "execution_count": 93,
   "metadata": {},
   "outputs": [
    {
     "data": {
      "text/html": [
       "<div>\n",
       "<style scoped>\n",
       "    .dataframe tbody tr th:only-of-type {\n",
       "        vertical-align: middle;\n",
       "    }\n",
       "\n",
       "    .dataframe tbody tr th {\n",
       "        vertical-align: top;\n",
       "    }\n",
       "\n",
       "    .dataframe thead th {\n",
       "        text-align: right;\n",
       "    }\n",
       "</style>\n",
       "<table border=\"1\" class=\"dataframe\">\n",
       "  <thead>\n",
       "    <tr style=\"text-align: right;\">\n",
       "      <th></th>\n",
       "      <th>Adult</th>\n",
       "      <th>Belongs To Collection</th>\n",
       "      <th>Budget</th>\n",
       "      <th>Genres</th>\n",
       "      <th>Homepage</th>\n",
       "      <th>ID</th>\n",
       "      <th>IMDB_id</th>\n",
       "      <th>Original Language</th>\n",
       "      <th>Original Title</th>\n",
       "      <th>Overview</th>\n",
       "      <th>...</th>\n",
       "      <th>Family</th>\n",
       "      <th>Fantasy</th>\n",
       "      <th>Horror</th>\n",
       "      <th>Mystery</th>\n",
       "      <th>Romance</th>\n",
       "      <th>Science Fiction</th>\n",
       "      <th>Thriller</th>\n",
       "      <th>Decile Rank</th>\n",
       "      <th>Over 5 Million</th>\n",
       "      <th>Over 1 Million</th>\n",
       "    </tr>\n",
       "  </thead>\n",
       "  <tbody>\n",
       "    <tr>\n",
       "      <th>0</th>\n",
       "      <td>False</td>\n",
       "      <td>{'id': 10194, 'name': 'Toy Story Collection', ...</td>\n",
       "      <td>30000000.0</td>\n",
       "      <td>[{'id': 16, 'name': 'Animation'}, {'id': 35, '...</td>\n",
       "      <td>http://toystory.disney.com/toy-story</td>\n",
       "      <td>862</td>\n",
       "      <td>tt0114709</td>\n",
       "      <td>en</td>\n",
       "      <td>Toy Story</td>\n",
       "      <td>Led by Woody, Andy's toys live happily in his ...</td>\n",
       "      <td>...</td>\n",
       "      <td>0</td>\n",
       "      <td>0</td>\n",
       "      <td>0</td>\n",
       "      <td>0</td>\n",
       "      <td>0</td>\n",
       "      <td>0</td>\n",
       "      <td>0</td>\n",
       "      <td>9.0</td>\n",
       "      <td>1</td>\n",
       "      <td>1</td>\n",
       "    </tr>\n",
       "    <tr>\n",
       "      <th>1</th>\n",
       "      <td>False</td>\n",
       "      <td>NaN</td>\n",
       "      <td>65000000.0</td>\n",
       "      <td>[{'id': 12, 'name': 'Adventure'}, {'id': 14, '...</td>\n",
       "      <td>NaN</td>\n",
       "      <td>8844</td>\n",
       "      <td>tt0113497</td>\n",
       "      <td>en</td>\n",
       "      <td>Jumanji</td>\n",
       "      <td>When siblings Judy and Peter discover an encha...</td>\n",
       "      <td>...</td>\n",
       "      <td>0</td>\n",
       "      <td>0</td>\n",
       "      <td>0</td>\n",
       "      <td>0</td>\n",
       "      <td>0</td>\n",
       "      <td>0</td>\n",
       "      <td>0</td>\n",
       "      <td>9.0</td>\n",
       "      <td>1</td>\n",
       "      <td>1</td>\n",
       "    </tr>\n",
       "    <tr>\n",
       "      <th>3</th>\n",
       "      <td>False</td>\n",
       "      <td>NaN</td>\n",
       "      <td>16000000.0</td>\n",
       "      <td>[{'id': 35, 'name': 'Comedy'}, {'id': 18, 'nam...</td>\n",
       "      <td>NaN</td>\n",
       "      <td>31357</td>\n",
       "      <td>tt0114885</td>\n",
       "      <td>en</td>\n",
       "      <td>Waiting to Exhale</td>\n",
       "      <td>Cheated on, mistreated and stepped on, the wom...</td>\n",
       "      <td>...</td>\n",
       "      <td>0</td>\n",
       "      <td>0</td>\n",
       "      <td>0</td>\n",
       "      <td>0</td>\n",
       "      <td>0</td>\n",
       "      <td>0</td>\n",
       "      <td>0</td>\n",
       "      <td>7.0</td>\n",
       "      <td>1</td>\n",
       "      <td>1</td>\n",
       "    </tr>\n",
       "    <tr>\n",
       "      <th>4</th>\n",
       "      <td>False</td>\n",
       "      <td>{'id': 96871, 'name': 'Father of the Bride Col...</td>\n",
       "      <td>0.0</td>\n",
       "      <td>[{'id': 35, 'name': 'Comedy'}]</td>\n",
       "      <td>NaN</td>\n",
       "      <td>11862</td>\n",
       "      <td>tt0113041</td>\n",
       "      <td>en</td>\n",
       "      <td>Father of the Bride Part II</td>\n",
       "      <td>Just when George Banks has recovered from his ...</td>\n",
       "      <td>...</td>\n",
       "      <td>0</td>\n",
       "      <td>0</td>\n",
       "      <td>0</td>\n",
       "      <td>0</td>\n",
       "      <td>0</td>\n",
       "      <td>0</td>\n",
       "      <td>0</td>\n",
       "      <td>7.0</td>\n",
       "      <td>1</td>\n",
       "      <td>1</td>\n",
       "    </tr>\n",
       "    <tr>\n",
       "      <th>5</th>\n",
       "      <td>False</td>\n",
       "      <td>NaN</td>\n",
       "      <td>60000000.0</td>\n",
       "      <td>[{'id': 28, 'name': 'Action'}, {'id': 80, 'nam...</td>\n",
       "      <td>NaN</td>\n",
       "      <td>949</td>\n",
       "      <td>tt0113277</td>\n",
       "      <td>en</td>\n",
       "      <td>Heat</td>\n",
       "      <td>Obsessive master thief, Neil McCauley leads a ...</td>\n",
       "      <td>...</td>\n",
       "      <td>0</td>\n",
       "      <td>0</td>\n",
       "      <td>0</td>\n",
       "      <td>0</td>\n",
       "      <td>0</td>\n",
       "      <td>0</td>\n",
       "      <td>0</td>\n",
       "      <td>9.0</td>\n",
       "      <td>1</td>\n",
       "      <td>1</td>\n",
       "    </tr>\n",
       "  </tbody>\n",
       "</table>\n",
       "<p>5 rows × 45 columns</p>\n",
       "</div>"
      ],
      "text/plain": [
       "   Adult                              Belongs To Collection      Budget  \\\n",
       "0  False  {'id': 10194, 'name': 'Toy Story Collection', ...  30000000.0   \n",
       "1  False                                                NaN  65000000.0   \n",
       "3  False                                                NaN  16000000.0   \n",
       "4  False  {'id': 96871, 'name': 'Father of the Bride Col...         0.0   \n",
       "5  False                                                NaN  60000000.0   \n",
       "\n",
       "                                              Genres  \\\n",
       "0  [{'id': 16, 'name': 'Animation'}, {'id': 35, '...   \n",
       "1  [{'id': 12, 'name': 'Adventure'}, {'id': 14, '...   \n",
       "3  [{'id': 35, 'name': 'Comedy'}, {'id': 18, 'nam...   \n",
       "4                     [{'id': 35, 'name': 'Comedy'}]   \n",
       "5  [{'id': 28, 'name': 'Action'}, {'id': 80, 'nam...   \n",
       "\n",
       "                               Homepage     ID    IMDB_id Original Language  \\\n",
       "0  http://toystory.disney.com/toy-story    862  tt0114709                en   \n",
       "1                                   NaN   8844  tt0113497                en   \n",
       "3                                   NaN  31357  tt0114885                en   \n",
       "4                                   NaN  11862  tt0113041                en   \n",
       "5                                   NaN    949  tt0113277                en   \n",
       "\n",
       "                Original Title  \\\n",
       "0                    Toy Story   \n",
       "1                      Jumanji   \n",
       "3            Waiting to Exhale   \n",
       "4  Father of the Bride Part II   \n",
       "5                         Heat   \n",
       "\n",
       "                                            Overview  ...  Family Fantasy  \\\n",
       "0  Led by Woody, Andy's toys live happily in his ...  ...       0       0   \n",
       "1  When siblings Judy and Peter discover an encha...  ...       0       0   \n",
       "3  Cheated on, mistreated and stepped on, the wom...  ...       0       0   \n",
       "4  Just when George Banks has recovered from his ...  ...       0       0   \n",
       "5  Obsessive master thief, Neil McCauley leads a ...  ...       0       0   \n",
       "\n",
       "  Horror Mystery Romance  Science Fiction  Thriller Decile Rank  \\\n",
       "0      0       0       0                0         0         9.0   \n",
       "1      0       0       0                0         0         9.0   \n",
       "3      0       0       0                0         0         7.0   \n",
       "4      0       0       0                0         0         7.0   \n",
       "5      0       0       0                0         0         9.0   \n",
       "\n",
       "  Over 5 Million Over 1 Million  \n",
       "0              1              1  \n",
       "1              1              1  \n",
       "3              1              1  \n",
       "4              1              1  \n",
       "5              1              1  \n",
       "\n",
       "[5 rows x 45 columns]"
      ]
     },
     "execution_count": 93,
     "metadata": {},
     "output_type": "execute_result"
    }
   ],
   "source": [
    "#Check dataframe\n",
    "df_1.head()"
   ]
  },
  {
   "cell_type": "code",
   "execution_count": 94,
   "metadata": {},
   "outputs": [
    {
     "data": {
      "text/plain": [
       "Adult                     object\n",
       "Belongs To Collection     object\n",
       "Budget                   float64\n",
       "Genres                    object\n",
       "Homepage                  object\n",
       "ID                        object\n",
       "IMDB_id                   object\n",
       "Original Language         object\n",
       "Original Title            object\n",
       "Overview                  object\n",
       "Popularity               float64\n",
       "Poster Path               object\n",
       "Production Companies      object\n",
       "Production Countries      object\n",
       "Release Date              object\n",
       "Revenue                  float64\n",
       "Runtime                  float64\n",
       "Spoken Languages          object\n",
       "Status                    object\n",
       "Tagline                   object\n",
       "Title                     object\n",
       "Video                     object\n",
       "Vote Average             float64\n",
       "Vote Count               float64\n",
       "Month                    float64\n",
       "Season Released          float64\n",
       "Primary Genre             object\n",
       "List of Genres            object\n",
       "Action                     uint8\n",
       "Adventure                  uint8\n",
       "Animation                  uint8\n",
       "Comedy                     uint8\n",
       "Crime                      uint8\n",
       "Documentary                uint8\n",
       "Drama                      uint8\n",
       "Family                     uint8\n",
       "Fantasy                    uint8\n",
       "Horror                     uint8\n",
       "Mystery                    uint8\n",
       "Romance                    uint8\n",
       "Science Fiction            uint8\n",
       "Thriller                   uint8\n",
       "Decile Rank              float64\n",
       "Over 5 Million             int64\n",
       "Over 1 Million             int64\n",
       "dtype: object"
      ]
     },
     "execution_count": 94,
     "metadata": {},
     "output_type": "execute_result"
    }
   ],
   "source": [
    "#Confirms Data Types \n",
    "df_1.dtypes"
   ]
  },
  {
   "cell_type": "code",
   "execution_count": 95,
   "metadata": {},
   "outputs": [
    {
     "data": {
      "text/html": [
       "<div>\n",
       "<style scoped>\n",
       "    .dataframe tbody tr th:only-of-type {\n",
       "        vertical-align: middle;\n",
       "    }\n",
       "\n",
       "    .dataframe tbody tr th {\n",
       "        vertical-align: top;\n",
       "    }\n",
       "\n",
       "    .dataframe thead th {\n",
       "        text-align: right;\n",
       "    }\n",
       "</style>\n",
       "<table border=\"1\" class=\"dataframe\">\n",
       "  <thead>\n",
       "    <tr style=\"text-align: right;\">\n",
       "      <th></th>\n",
       "      <th>Adult</th>\n",
       "      <th>Belongs To Collection</th>\n",
       "      <th>Budget</th>\n",
       "      <th>Genres</th>\n",
       "      <th>Homepage</th>\n",
       "      <th>ID</th>\n",
       "      <th>IMDB_id</th>\n",
       "      <th>Original Language</th>\n",
       "      <th>Original Title</th>\n",
       "      <th>Overview</th>\n",
       "      <th>...</th>\n",
       "      <th>Family</th>\n",
       "      <th>Fantasy</th>\n",
       "      <th>Horror</th>\n",
       "      <th>Mystery</th>\n",
       "      <th>Romance</th>\n",
       "      <th>Science Fiction</th>\n",
       "      <th>Thriller</th>\n",
       "      <th>Decile Rank</th>\n",
       "      <th>Over 5 Million</th>\n",
       "      <th>Over 1 Million</th>\n",
       "    </tr>\n",
       "  </thead>\n",
       "  <tbody>\n",
       "    <tr>\n",
       "      <th>0</th>\n",
       "      <td>False</td>\n",
       "      <td>{'id': 10194, 'name': 'Toy Story Collection', ...</td>\n",
       "      <td>30000000.0</td>\n",
       "      <td>[{'id': 16, 'name': 'Animation'}, {'id': 35, '...</td>\n",
       "      <td>http://toystory.disney.com/toy-story</td>\n",
       "      <td>862</td>\n",
       "      <td>tt0114709</td>\n",
       "      <td>en</td>\n",
       "      <td>Toy Story</td>\n",
       "      <td>Led by Woody, Andy's toys live happily in his ...</td>\n",
       "      <td>...</td>\n",
       "      <td>0</td>\n",
       "      <td>0</td>\n",
       "      <td>0</td>\n",
       "      <td>0</td>\n",
       "      <td>0</td>\n",
       "      <td>0</td>\n",
       "      <td>0</td>\n",
       "      <td>9.0</td>\n",
       "      <td>1</td>\n",
       "      <td>1</td>\n",
       "    </tr>\n",
       "    <tr>\n",
       "      <th>1</th>\n",
       "      <td>False</td>\n",
       "      <td>NaN</td>\n",
       "      <td>65000000.0</td>\n",
       "      <td>[{'id': 12, 'name': 'Adventure'}, {'id': 14, '...</td>\n",
       "      <td>NaN</td>\n",
       "      <td>8844</td>\n",
       "      <td>tt0113497</td>\n",
       "      <td>en</td>\n",
       "      <td>Jumanji</td>\n",
       "      <td>When siblings Judy and Peter discover an encha...</td>\n",
       "      <td>...</td>\n",
       "      <td>0</td>\n",
       "      <td>0</td>\n",
       "      <td>0</td>\n",
       "      <td>0</td>\n",
       "      <td>0</td>\n",
       "      <td>0</td>\n",
       "      <td>0</td>\n",
       "      <td>9.0</td>\n",
       "      <td>1</td>\n",
       "      <td>1</td>\n",
       "    </tr>\n",
       "    <tr>\n",
       "      <th>3</th>\n",
       "      <td>False</td>\n",
       "      <td>NaN</td>\n",
       "      <td>16000000.0</td>\n",
       "      <td>[{'id': 35, 'name': 'Comedy'}, {'id': 18, 'nam...</td>\n",
       "      <td>NaN</td>\n",
       "      <td>31357</td>\n",
       "      <td>tt0114885</td>\n",
       "      <td>en</td>\n",
       "      <td>Waiting to Exhale</td>\n",
       "      <td>Cheated on, mistreated and stepped on, the wom...</td>\n",
       "      <td>...</td>\n",
       "      <td>0</td>\n",
       "      <td>0</td>\n",
       "      <td>0</td>\n",
       "      <td>0</td>\n",
       "      <td>0</td>\n",
       "      <td>0</td>\n",
       "      <td>0</td>\n",
       "      <td>7.0</td>\n",
       "      <td>1</td>\n",
       "      <td>1</td>\n",
       "    </tr>\n",
       "    <tr>\n",
       "      <th>4</th>\n",
       "      <td>False</td>\n",
       "      <td>{'id': 96871, 'name': 'Father of the Bride Col...</td>\n",
       "      <td>0.0</td>\n",
       "      <td>[{'id': 35, 'name': 'Comedy'}]</td>\n",
       "      <td>NaN</td>\n",
       "      <td>11862</td>\n",
       "      <td>tt0113041</td>\n",
       "      <td>en</td>\n",
       "      <td>Father of the Bride Part II</td>\n",
       "      <td>Just when George Banks has recovered from his ...</td>\n",
       "      <td>...</td>\n",
       "      <td>0</td>\n",
       "      <td>0</td>\n",
       "      <td>0</td>\n",
       "      <td>0</td>\n",
       "      <td>0</td>\n",
       "      <td>0</td>\n",
       "      <td>0</td>\n",
       "      <td>7.0</td>\n",
       "      <td>1</td>\n",
       "      <td>1</td>\n",
       "    </tr>\n",
       "    <tr>\n",
       "      <th>5</th>\n",
       "      <td>False</td>\n",
       "      <td>NaN</td>\n",
       "      <td>60000000.0</td>\n",
       "      <td>[{'id': 28, 'name': 'Action'}, {'id': 80, 'nam...</td>\n",
       "      <td>NaN</td>\n",
       "      <td>949</td>\n",
       "      <td>tt0113277</td>\n",
       "      <td>en</td>\n",
       "      <td>Heat</td>\n",
       "      <td>Obsessive master thief, Neil McCauley leads a ...</td>\n",
       "      <td>...</td>\n",
       "      <td>0</td>\n",
       "      <td>0</td>\n",
       "      <td>0</td>\n",
       "      <td>0</td>\n",
       "      <td>0</td>\n",
       "      <td>0</td>\n",
       "      <td>0</td>\n",
       "      <td>9.0</td>\n",
       "      <td>1</td>\n",
       "      <td>1</td>\n",
       "    </tr>\n",
       "  </tbody>\n",
       "</table>\n",
       "<p>5 rows × 45 columns</p>\n",
       "</div>"
      ],
      "text/plain": [
       "   Adult                              Belongs To Collection      Budget  \\\n",
       "0  False  {'id': 10194, 'name': 'Toy Story Collection', ...  30000000.0   \n",
       "1  False                                                NaN  65000000.0   \n",
       "3  False                                                NaN  16000000.0   \n",
       "4  False  {'id': 96871, 'name': 'Father of the Bride Col...         0.0   \n",
       "5  False                                                NaN  60000000.0   \n",
       "\n",
       "                                              Genres  \\\n",
       "0  [{'id': 16, 'name': 'Animation'}, {'id': 35, '...   \n",
       "1  [{'id': 12, 'name': 'Adventure'}, {'id': 14, '...   \n",
       "3  [{'id': 35, 'name': 'Comedy'}, {'id': 18, 'nam...   \n",
       "4                     [{'id': 35, 'name': 'Comedy'}]   \n",
       "5  [{'id': 28, 'name': 'Action'}, {'id': 80, 'nam...   \n",
       "\n",
       "                               Homepage     ID    IMDB_id Original Language  \\\n",
       "0  http://toystory.disney.com/toy-story    862  tt0114709                en   \n",
       "1                                   NaN   8844  tt0113497                en   \n",
       "3                                   NaN  31357  tt0114885                en   \n",
       "4                                   NaN  11862  tt0113041                en   \n",
       "5                                   NaN    949  tt0113277                en   \n",
       "\n",
       "                Original Title  \\\n",
       "0                    Toy Story   \n",
       "1                      Jumanji   \n",
       "3            Waiting to Exhale   \n",
       "4  Father of the Bride Part II   \n",
       "5                         Heat   \n",
       "\n",
       "                                            Overview  ...  Family Fantasy  \\\n",
       "0  Led by Woody, Andy's toys live happily in his ...  ...       0       0   \n",
       "1  When siblings Judy and Peter discover an encha...  ...       0       0   \n",
       "3  Cheated on, mistreated and stepped on, the wom...  ...       0       0   \n",
       "4  Just when George Banks has recovered from his ...  ...       0       0   \n",
       "5  Obsessive master thief, Neil McCauley leads a ...  ...       0       0   \n",
       "\n",
       "  Horror Mystery Romance  Science Fiction  Thriller Decile Rank  \\\n",
       "0      0       0       0                0         0         9.0   \n",
       "1      0       0       0                0         0         9.0   \n",
       "3      0       0       0                0         0         7.0   \n",
       "4      0       0       0                0         0         7.0   \n",
       "5      0       0       0                0         0         9.0   \n",
       "\n",
       "  Over 5 Million Over 1 Million  \n",
       "0              1              1  \n",
       "1              1              1  \n",
       "3              1              1  \n",
       "4              1              1  \n",
       "5              1              1  \n",
       "\n",
       "[5 rows x 45 columns]"
      ]
     },
     "execution_count": 95,
     "metadata": {},
     "output_type": "execute_result"
    }
   ],
   "source": [
    "#Sets new dataframe for different model\n",
    "df_2 = df_1\n",
    "df_2.head()"
   ]
  },
  {
   "cell_type": "code",
   "execution_count": null,
   "metadata": {},
   "outputs": [],
   "source": [
    "#double check movie with 0 revenue"
   ]
  },
  {
   "cell_type": "code",
   "execution_count": 96,
   "metadata": {},
   "outputs": [],
   "source": [
    "#Set X and Y variables\n",
    "X3 = df_2[['Popularity', 'Budget', 'Runtime', 'Vote Average', 'Vote Count', 'Season Released']]\n",
    "y3 = df_2['Revenue']"
   ]
  },
  {
   "cell_type": "code",
   "execution_count": 97,
   "metadata": {},
   "outputs": [
    {
     "data": {
      "text/plain": [
       "Adult                       0\n",
       "Belongs To Collection    5725\n",
       "Budget                      0\n",
       "Genres                      0\n",
       "Homepage                 4865\n",
       "ID                          0\n",
       "IMDB_id                     0\n",
       "Original Language           0\n",
       "Original Title              0\n",
       "Overview                   15\n",
       "Popularity                  0\n",
       "Poster Path                 0\n",
       "Production Companies        0\n",
       "Production Countries        0\n",
       "Release Date                0\n",
       "Revenue                     0\n",
       "Runtime                     0\n",
       "Spoken Languages            0\n",
       "Status                      1\n",
       "Tagline                  1389\n",
       "Title                       0\n",
       "Video                       0\n",
       "Vote Average                0\n",
       "Vote Count                  0\n",
       "Month                       0\n",
       "Season Released             0\n",
       "Primary Genre               0\n",
       "List of Genres              0\n",
       "Action                      0\n",
       "Adventure                   0\n",
       "Animation                   0\n",
       "Comedy                      0\n",
       "Crime                       0\n",
       "Documentary                 0\n",
       "Drama                       0\n",
       "Family                      0\n",
       "Fantasy                     0\n",
       "Horror                      0\n",
       "Mystery                     0\n",
       "Romance                     0\n",
       "Science Fiction             0\n",
       "Thriller                    0\n",
       "Decile Rank                 0\n",
       "Over 5 Million              0\n",
       "Over 1 Million              0\n",
       "dtype: int64"
      ]
     },
     "execution_count": 97,
     "metadata": {},
     "output_type": "execute_result"
    }
   ],
   "source": [
    "#Confirms all nulls in specified dataframe columns gone\n",
    "df_2.isnull().sum()"
   ]
  },
  {
   "cell_type": "code",
   "execution_count": 98,
   "metadata": {},
   "outputs": [
    {
     "data": {
      "text/plain": [
       "Popularity         float64\n",
       "Budget             float64\n",
       "Runtime            float64\n",
       "Vote Average       float64\n",
       "Vote Count         float64\n",
       "Season Released    float64\n",
       "dtype: object"
      ]
     },
     "execution_count": 98,
     "metadata": {},
     "output_type": "execute_result"
    }
   ],
   "source": [
    "X3.dtypes"
   ]
  },
  {
   "cell_type": "code",
   "execution_count": 99,
   "metadata": {},
   "outputs": [
    {
     "data": {
      "text/plain": [
       "dtype('float64')"
      ]
     },
     "execution_count": 99,
     "metadata": {},
     "output_type": "execute_result"
    }
   ],
   "source": [
    "y3.dtypes"
   ]
  },
  {
   "cell_type": "code",
   "execution_count": 100,
   "metadata": {},
   "outputs": [],
   "source": [
    "#Set X and Y variables for LogReg\n",
    "X3 = df_2[['Popularity', 'Budget', 'Runtime', 'Vote Average', 'Vote Count', 'Season Released']]\n",
    "y3 = df_2[['Over 5 Million']]"
   ]
  },
  {
   "cell_type": "code",
   "execution_count": 101,
   "metadata": {},
   "outputs": [],
   "source": [
    "#Train/test split\n",
    "lr1X_train, lr1X_test, lr1y_train, lr1y_test = train_test_split(X3, y3, random_state=2)"
   ]
  },
  {
   "cell_type": "code",
   "execution_count": 102,
   "metadata": {},
   "outputs": [
    {
     "name": "stderr",
     "output_type": "stream",
     "text": [
      "C:\\Users\\taylo\\Anaconda3\\lib\\site-packages\\sklearn\\linear_model\\logistic.py:433: FutureWarning: Default solver will be changed to 'lbfgs' in 0.22. Specify a solver to silence this warning.\n",
      "  FutureWarning)\n",
      "C:\\Users\\taylo\\Anaconda3\\lib\\site-packages\\sklearn\\utils\\validation.py:761: DataConversionWarning: A column-vector y was passed when a 1d array was expected. Please change the shape of y to (n_samples, ), for example using ravel().\n",
      "  y = column_or_1d(y, warn=True)\n"
     ]
    }
   ],
   "source": [
    "#Fit Log Reg Model\n",
    "logreg = LogisticRegression()\n",
    "lr_model = logreg.fit(lr1X_train, lr1y_train)"
   ]
  },
  {
   "cell_type": "code",
   "execution_count": 103,
   "metadata": {},
   "outputs": [
    {
     "data": {
      "text/plain": [
       "0.6986275964391692"
      ]
     },
     "execution_count": 103,
     "metadata": {},
     "output_type": "execute_result"
    }
   ],
   "source": [
    "#Check Model score\n",
    "lr_model.score(lr1X_train, lr1y_train)"
   ]
  },
  {
   "cell_type": "code",
   "execution_count": 104,
   "metadata": {},
   "outputs": [
    {
     "data": {
      "text/plain": [
       "0.7046718576195773"
      ]
     },
     "execution_count": 104,
     "metadata": {},
     "output_type": "execute_result"
    }
   ],
   "source": [
    "#Checks model score\n",
    "lr_model.score(lr1X_test, lr1y_test)"
   ]
  },
  {
   "cell_type": "code",
   "execution_count": 105,
   "metadata": {},
   "outputs": [
    {
     "data": {
      "text/plain": [
       "array([[ 7.34542356e-14,  1.00768387e-07, -4.14185303e-13,\n",
       "        -2.60669750e-14,  8.44376037e-12, -1.92557095e-14]])"
      ]
     },
     "execution_count": 105,
     "metadata": {},
     "output_type": "execute_result"
    }
   ],
   "source": [
    "#Checks model coefficients\n",
    "lr_model.coef_"
   ]
  },
  {
   "cell_type": "code",
   "execution_count": 106,
   "metadata": {},
   "outputs": [],
   "source": [
    "#Set predictions\n",
    "y_predict_lr = lr_model.predict(lr1X_test)"
   ]
  },
  {
   "cell_type": "code",
   "execution_count": 107,
   "metadata": {},
   "outputs": [
    {
     "data": {
      "text/plain": [
       "(1798,)"
      ]
     },
     "execution_count": 107,
     "metadata": {},
     "output_type": "execute_result"
    }
   ],
   "source": [
    "y_predict_lr.shape"
   ]
  },
  {
   "cell_type": "code",
   "execution_count": 108,
   "metadata": {},
   "outputs": [
    {
     "data": {
      "text/plain": [
       "(1798, 1)"
      ]
     },
     "execution_count": 108,
     "metadata": {},
     "output_type": "execute_result"
    }
   ],
   "source": [
    "lr1y_test.shape"
   ]
  },
  {
   "cell_type": "code",
   "execution_count": 109,
   "metadata": {},
   "outputs": [],
   "source": [
    "from sklearn.metrics import confusion_matrix\n",
    "from sklearn.metrics import accuracy_score \n",
    "from sklearn.metrics import classification_report"
   ]
  },
  {
   "cell_type": "code",
   "execution_count": 110,
   "metadata": {},
   "outputs": [
    {
     "data": {
      "text/plain": [
       "(31, 530, 1, 1236)"
      ]
     },
     "execution_count": 110,
     "metadata": {},
     "output_type": "execute_result"
    }
   ],
   "source": [
    "tn, fp, fn, tp = confusion_matrix(lr1y_test, y_predict_lr).ravel()\n",
    "tn, fp, fn, tp"
   ]
  },
  {
   "cell_type": "code",
   "execution_count": 111,
   "metadata": {},
   "outputs": [
    {
     "name": "stdout",
     "output_type": "stream",
     "text": [
      "Confusion Matrix :\n",
      "[[  31  530]\n",
      " [   1 1236]]\n",
      "Accuracy Score :\n",
      "Report : \n",
      "              precision    recall  f1-score   support\n",
      "\n",
      "           0       0.97      0.06      0.10       561\n",
      "           1       0.70      1.00      0.82      1237\n",
      "\n",
      "   micro avg       0.70      0.70      0.70      1798\n",
      "   macro avg       0.83      0.53      0.46      1798\n",
      "weighted avg       0.78      0.70      0.60      1798\n",
      "\n"
     ]
    }
   ],
   "source": [
    "# Python script for confusion matrix creation. \n",
    "from sklearn.metrics import confusion_matrix \n",
    "from sklearn.metrics import accuracy_score \n",
    "from sklearn.metrics import classification_report \n",
    "actual = lr1y_test\n",
    "predicted = y_predict_lr\n",
    "results = confusion_matrix(actual, predicted) \n",
    "print('Confusion Matrix :')\n",
    "print(results) \n",
    "print('Accuracy Score :'),accuracy_score(actual, predicted) \n",
    "print('Report : ')\n",
    "print(classification_report(actual, predicted))"
   ]
  },
  {
   "cell_type": "code",
   "execution_count": 112,
   "metadata": {},
   "outputs": [
    {
     "name": "stdout",
     "output_type": "stream",
     "text": [
      "Mean Absolute Error: 0.2953281423804227\n",
      "Mean Squared Error: 0.2953281423804227\n",
      "Root Mean Squared Error: 0.5434410201488499\n"
     ]
    }
   ],
   "source": [
    "print('Mean Absolute Error:', metrics.mean_absolute_error(lr1y_test, y_predict_lr))  \n",
    "print('Mean Squared Error:', metrics.mean_squared_error(lr1y_test, y_predict_lr))  \n",
    "print('Root Mean Squared Error:', np.sqrt(metrics.mean_squared_error(lr1y_test, y_predict_lr)))"
   ]
  },
  {
   "cell_type": "code",
   "execution_count": 113,
   "metadata": {},
   "outputs": [
    {
     "name": "stdout",
     "output_type": "stream",
     "text": [
      "                            OLS Regression Results                            \n",
      "==============================================================================\n",
      "Dep. Variable:         Over 5 Million   R-squared:                       0.727\n",
      "Model:                            OLS   Adj. R-squared:                  0.726\n",
      "Method:                 Least Squares   F-statistic:                     2388.\n",
      "Date:                Tue, 27 Aug 2019   Prob (F-statistic):               0.00\n",
      "Time:                        01:02:00   Log-Likelihood:                -3101.7\n",
      "No. Observations:                5392   AIC:                             6215.\n",
      "Df Residuals:                    5386   BIC:                             6255.\n",
      "Df Model:                           6                                         \n",
      "Covariance Type:            nonrobust                                         \n",
      "===================================================================================\n",
      "                      coef    std err          t      P>|t|      [0.025      0.975]\n",
      "-----------------------------------------------------------------------------------\n",
      "Popularity          0.0031      0.001      5.729      0.000       0.002       0.004\n",
      "Budget           3.895e-09   2.06e-10     18.910      0.000    3.49e-09     4.3e-09\n",
      "Runtime             0.0028      0.000     10.535      0.000       0.002       0.003\n",
      "Vote Average        0.0442      0.005      9.250      0.000       0.035       0.054\n",
      "Vote Count       6.585e-06   7.33e-06      0.898      0.369   -7.79e-06     2.1e-05\n",
      "Season Released    -0.0091      0.005     -1.835      0.067      -0.019       0.001\n",
      "==============================================================================\n",
      "Omnibus:                    67800.250   Durbin-Watson:                   2.007\n",
      "Prob(Omnibus):                  0.000   Jarque-Bera (JB):              647.122\n",
      "Skew:                          -0.496   Prob(JB):                    3.01e-141\n",
      "Kurtosis:                       1.623   Cond. No.                     4.12e+07\n",
      "==============================================================================\n",
      "\n",
      "Warnings:\n",
      "[1] Standard Errors assume that the covariance matrix of the errors is correctly specified.\n",
      "[2] The condition number is large, 4.12e+07. This might indicate that there are\n",
      "strong multicollinearity or other numerical problems.\n"
     ]
    }
   ],
   "source": [
    "lm_logreg = sm.OLS(lr1y_train, lr1X_train)\n",
    "lm_logreg_results = lm_logreg.fit()\n",
    "print(lm_logreg_results.summary())"
   ]
  },
  {
   "cell_type": "code",
   "execution_count": null,
   "metadata": {},
   "outputs": [],
   "source": [
    "Model for $1 million threshold"
   ]
  },
  {
   "cell_type": "code",
   "execution_count": 115,
   "metadata": {},
   "outputs": [
    {
     "data": {
      "text/plain": [
       "1    5886\n",
       "0    1304\n",
       "Name: Over 1 Million, dtype: int64"
      ]
     },
     "execution_count": 115,
     "metadata": {},
     "output_type": "execute_result"
    }
   ],
   "source": [
    "#Checks number of movies with over $1 mill Revenue\n",
    "df_2['Over 1 Million'].value_counts()"
   ]
  },
  {
   "cell_type": "code",
   "execution_count": 117,
   "metadata": {},
   "outputs": [
    {
     "name": "stdout",
     "output_type": "stream",
     "text": [
      "(7190, 45)\n",
      "(7190, 45)\n"
     ]
    }
   ],
   "source": [
    "#Prints df_2 shape before and after droping nulls\n",
    "print(df_2.shape)\n",
    "df_2.dropna(subset=['Popularity', 'Budget', 'Runtime', 'Vote Average', 'Vote Count', 'Season Released', 'Revenue', 'Over 1 Million'] , inplace = True)\n",
    "print(df_2.shape)"
   ]
  },
  {
   "cell_type": "code",
   "execution_count": 118,
   "metadata": {},
   "outputs": [
    {
     "data": {
      "text/plain": [
       "Adult                       0\n",
       "Belongs To Collection    5725\n",
       "Budget                      0\n",
       "Genres                      0\n",
       "Homepage                 4865\n",
       "ID                          0\n",
       "IMDB_id                     0\n",
       "Original Language           0\n",
       "Original Title              0\n",
       "Overview                   15\n",
       "Popularity                  0\n",
       "Poster Path                 0\n",
       "Production Companies        0\n",
       "Production Countries        0\n",
       "Release Date                0\n",
       "Revenue                     0\n",
       "Runtime                     0\n",
       "Spoken Languages            0\n",
       "Status                      1\n",
       "Tagline                  1389\n",
       "Title                       0\n",
       "Video                       0\n",
       "Vote Average                0\n",
       "Vote Count                  0\n",
       "Month                       0\n",
       "Season Released             0\n",
       "Primary Genre               0\n",
       "List of Genres              0\n",
       "Action                      0\n",
       "Adventure                   0\n",
       "Animation                   0\n",
       "Comedy                      0\n",
       "Crime                       0\n",
       "Documentary                 0\n",
       "Drama                       0\n",
       "Family                      0\n",
       "Fantasy                     0\n",
       "Horror                      0\n",
       "Mystery                     0\n",
       "Romance                     0\n",
       "Science Fiction             0\n",
       "Thriller                    0\n",
       "Decile Rank                 0\n",
       "Over 5 Million              0\n",
       "Over 1 Million              0\n",
       "dtype: int64"
      ]
     },
     "execution_count": 118,
     "metadata": {},
     "output_type": "execute_result"
    }
   ],
   "source": [
    "#Confirms all nulls in specified dataframe columns gone\n",
    "df_2.isnull().sum()"
   ]
  },
  {
   "cell_type": "code",
   "execution_count": 119,
   "metadata": {},
   "outputs": [
    {
     "data": {
      "text/plain": [
       "Over 1 Million    int64\n",
       "dtype: object"
      ]
     },
     "execution_count": 119,
     "metadata": {},
     "output_type": "execute_result"
    }
   ],
   "source": [
    "#Confirms Over 1 Million is Object\n",
    "df_2[['Over 1 Million']].dtypes"
   ]
  },
  {
   "cell_type": "code",
   "execution_count": 120,
   "metadata": {},
   "outputs": [],
   "source": [
    "#Set X and Y variables for LogReg\n",
    "X3 = df_2[['Popularity', 'Budget', 'Runtime', 'Vote Average', 'Vote Count', 'Season Released']]\n",
    "y3a = df_2[['Over 1 Million']]"
   ]
  },
  {
   "cell_type": "code",
   "execution_count": 121,
   "metadata": {},
   "outputs": [],
   "source": [
    "#Train/test split\n",
    "lr2X_train, lr2X_test, lr2y_train, lr2y_test = train_test_split(X3, y3a, random_state=2)"
   ]
  },
  {
   "cell_type": "code",
   "execution_count": 122,
   "metadata": {},
   "outputs": [
    {
     "name": "stderr",
     "output_type": "stream",
     "text": [
      "C:\\Users\\taylo\\Anaconda3\\lib\\site-packages\\sklearn\\linear_model\\logistic.py:433: FutureWarning: Default solver will be changed to 'lbfgs' in 0.22. Specify a solver to silence this warning.\n",
      "  FutureWarning)\n",
      "C:\\Users\\taylo\\Anaconda3\\lib\\site-packages\\sklearn\\utils\\validation.py:761: DataConversionWarning: A column-vector y was passed when a 1d array was expected. Please change the shape of y to (n_samples, ), for example using ravel().\n",
      "  y = column_or_1d(y, warn=True)\n"
     ]
    }
   ],
   "source": [
    "#Fit Log Reg Model\n",
    "logreg = LogisticRegression()\n",
    "lr_model_2 = logreg.fit(lr2X_train, lr2y_train)"
   ]
  },
  {
   "cell_type": "code",
   "execution_count": 123,
   "metadata": {},
   "outputs": [
    {
     "data": {
      "text/plain": [
       "0.8158382789317508"
      ]
     },
     "execution_count": 123,
     "metadata": {},
     "output_type": "execute_result"
    }
   ],
   "source": [
    "#Check Model score\n",
    "lr_model_2.score(lr2X_train, lr2y_train)"
   ]
  },
  {
   "cell_type": "code",
   "execution_count": 124,
   "metadata": {},
   "outputs": [
    {
     "data": {
      "text/plain": [
       "0.8270300333704116"
      ]
     },
     "execution_count": 124,
     "metadata": {},
     "output_type": "execute_result"
    }
   ],
   "source": [
    "lr_model_2.score(lr2X_test, lr2y_test)"
   ]
  },
  {
   "cell_type": "code",
   "execution_count": 128,
   "metadata": {},
   "outputs": [
    {
     "data": {
      "text/plain": [
       "array([[5.80273614e-13, 1.96931577e-07, 5.89204278e-12, 3.63922869e-13,\n",
       "        2.77066556e-11, 1.29341450e-13]])"
      ]
     },
     "execution_count": 128,
     "metadata": {},
     "output_type": "execute_result"
    }
   ],
   "source": [
    "#Checks model coefficients\n",
    "lr_model_2.coef_"
   ]
  },
  {
   "cell_type": "code",
   "execution_count": 130,
   "metadata": {},
   "outputs": [],
   "source": [
    "#Set predictions\n",
    "y_predict_lr_2 = lr_model_2.predict(lr2X_test)"
   ]
  },
  {
   "cell_type": "code",
   "execution_count": 131,
   "metadata": {},
   "outputs": [
    {
     "name": "stdout",
     "output_type": "stream",
     "text": [
      "Confusion Matrix :\n",
      "[[   0  311]\n",
      " [   0 1487]]\n",
      "Accuracy Score :\n",
      "Report : \n",
      "              precision    recall  f1-score   support\n",
      "\n",
      "           0       0.00      0.00      0.00       311\n",
      "           1       0.83      1.00      0.91      1487\n",
      "\n",
      "   micro avg       0.83      0.83      0.83      1798\n",
      "   macro avg       0.41      0.50      0.45      1798\n",
      "weighted avg       0.68      0.83      0.75      1798\n",
      "\n"
     ]
    },
    {
     "name": "stderr",
     "output_type": "stream",
     "text": [
      "C:\\Users\\taylo\\Anaconda3\\lib\\site-packages\\sklearn\\metrics\\classification.py:1143: UndefinedMetricWarning: Precision and F-score are ill-defined and being set to 0.0 in labels with no predicted samples.\n",
      "  'precision', 'predicted', average, warn_for)\n",
      "C:\\Users\\taylo\\Anaconda3\\lib\\site-packages\\sklearn\\metrics\\classification.py:1143: UndefinedMetricWarning: Precision and F-score are ill-defined and being set to 0.0 in labels with no predicted samples.\n",
      "  'precision', 'predicted', average, warn_for)\n",
      "C:\\Users\\taylo\\Anaconda3\\lib\\site-packages\\sklearn\\metrics\\classification.py:1143: UndefinedMetricWarning: Precision and F-score are ill-defined and being set to 0.0 in labels with no predicted samples.\n",
      "  'precision', 'predicted', average, warn_for)\n"
     ]
    }
   ],
   "source": [
    "# Python script for confusion matrix creation. \n",
    "from sklearn.metrics import confusion_matrix \n",
    "from sklearn.metrics import accuracy_score \n",
    "from sklearn.metrics import classification_report \n",
    "actual = lr2y_test\n",
    "predicted = y_predict_lr_2\n",
    "results = confusion_matrix(actual, predicted) \n",
    "print('Confusion Matrix :')\n",
    "print(results) \n",
    "print('Accuracy Score :'),accuracy_score(actual, predicted) \n",
    "print('Report : ')\n",
    "print(classification_report(actual, predicted))"
   ]
  }
 ],
 "metadata": {
  "kernelspec": {
   "display_name": "Python 3",
   "language": "python",
   "name": "python3"
  },
  "language_info": {
   "codemirror_mode": {
    "name": "ipython",
    "version": 3
   },
   "file_extension": ".py",
   "mimetype": "text/x-python",
   "name": "python",
   "nbconvert_exporter": "python",
   "pygments_lexer": "ipython3",
   "version": "3.7.3"
  }
 },
 "nbformat": 4,
 "nbformat_minor": 2
}
