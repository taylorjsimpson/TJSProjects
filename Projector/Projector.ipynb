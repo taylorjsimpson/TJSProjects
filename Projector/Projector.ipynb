{
 "cells": [
  {
   "cell_type": "code",
   "execution_count": 22,
   "metadata": {},
   "outputs": [],
   "source": [
    "import pandas as pd\n",
    "import seaborn as sns\n",
    "import matplotlib.pyplot as plt"
   ]
  },
  {
   "cell_type": "code",
   "execution_count": 90,
   "metadata": {},
   "outputs": [],
   "source": [
    "import math"
   ]
  },
  {
   "cell_type": "code",
   "execution_count": 94,
   "metadata": {},
   "outputs": [],
   "source": [
    "import numpy as np"
   ]
  },
  {
   "cell_type": "code",
   "execution_count": 60,
   "metadata": {},
   "outputs": [],
   "source": [
    "#Imports DF\n",
    "df = pd.read_csv(\"C:\\\\Users\\\\taylo\\\\Desktop\\\\GA\\\\DSI_Assignments_New\\\\Projector\\\\ProjectorTask2.csv\")"
   ]
  },
  {
   "cell_type": "code",
   "execution_count": 42,
   "metadata": {},
   "outputs": [
    {
     "data": {
      "text/html": [
       "<div>\n",
       "<style scoped>\n",
       "    .dataframe tbody tr th:only-of-type {\n",
       "        vertical-align: middle;\n",
       "    }\n",
       "\n",
       "    .dataframe tbody tr th {\n",
       "        vertical-align: top;\n",
       "    }\n",
       "\n",
       "    .dataframe thead th {\n",
       "        text-align: right;\n",
       "    }\n",
       "</style>\n",
       "<table border=\"1\" class=\"dataframe\">\n",
       "  <thead>\n",
       "    <tr style=\"text-align: right;\">\n",
       "      <th></th>\n",
       "      <th>Month of</th>\n",
       "      <th>Hours</th>\n",
       "      <th>Percent of Total</th>\n",
       "      <th>Revenue</th>\n",
       "    </tr>\n",
       "  </thead>\n",
       "  <tbody>\n",
       "    <tr>\n",
       "      <th>0</th>\n",
       "      <td>Jun-19</td>\n",
       "      <td>10.0</td>\n",
       "      <td>NaN</td>\n",
       "      <td>NaN</td>\n",
       "    </tr>\n",
       "    <tr>\n",
       "      <th>1</th>\n",
       "      <td>Jul-19</td>\n",
       "      <td>120.0</td>\n",
       "      <td>NaN</td>\n",
       "      <td>NaN</td>\n",
       "    </tr>\n",
       "    <tr>\n",
       "      <th>2</th>\n",
       "      <td>Aug-19</td>\n",
       "      <td>100.0</td>\n",
       "      <td>NaN</td>\n",
       "      <td>NaN</td>\n",
       "    </tr>\n",
       "    <tr>\n",
       "      <th>3</th>\n",
       "      <td>Sep-19</td>\n",
       "      <td>70.0</td>\n",
       "      <td>NaN</td>\n",
       "      <td>NaN</td>\n",
       "    </tr>\n",
       "    <tr>\n",
       "      <th>4</th>\n",
       "      <td>Oct-19</td>\n",
       "      <td>100.0</td>\n",
       "      <td>NaN</td>\n",
       "      <td>NaN</td>\n",
       "    </tr>\n",
       "    <tr>\n",
       "      <th>5</th>\n",
       "      <td>Nov-19</td>\n",
       "      <td>50.0</td>\n",
       "      <td>NaN</td>\n",
       "      <td>NaN</td>\n",
       "    </tr>\n",
       "    <tr>\n",
       "      <th>6</th>\n",
       "      <td>Dec-19</td>\n",
       "      <td>100.0</td>\n",
       "      <td>NaN</td>\n",
       "      <td>NaN</td>\n",
       "    </tr>\n",
       "    <tr>\n",
       "      <th>7</th>\n",
       "      <td>Jan-20</td>\n",
       "      <td>10.0</td>\n",
       "      <td>NaN</td>\n",
       "      <td>NaN</td>\n",
       "    </tr>\n",
       "    <tr>\n",
       "      <th>8</th>\n",
       "      <td>TOTAL</td>\n",
       "      <td>NaN</td>\n",
       "      <td>NaN</td>\n",
       "      <td>$0.32</td>\n",
       "    </tr>\n",
       "  </tbody>\n",
       "</table>\n",
       "</div>"
      ],
      "text/plain": [
       "  Month of  Hours  Percent of Total  Revenue\n",
       "0   Jun-19   10.0               NaN      NaN\n",
       "1   Jul-19  120.0               NaN      NaN\n",
       "2   Aug-19  100.0               NaN      NaN\n",
       "3   Sep-19   70.0               NaN      NaN\n",
       "4   Oct-19  100.0               NaN      NaN\n",
       "5   Nov-19   50.0               NaN      NaN\n",
       "6   Dec-19  100.0               NaN      NaN\n",
       "7   Jan-20   10.0               NaN      NaN\n",
       "8    TOTAL    NaN               NaN   $0.32 "
      ]
     },
     "execution_count": 42,
     "metadata": {},
     "output_type": "execute_result"
    }
   ],
   "source": [
    "#Checks out DF\n",
    "df"
   ]
  },
  {
   "cell_type": "code",
   "execution_count": 36,
   "metadata": {},
   "outputs": [
    {
     "data": {
      "text/plain": [
       "Index(['Month of', 'Hours', 'Percent of Total', 'Revenue'], dtype='object')"
      ]
     },
     "execution_count": 36,
     "metadata": {},
     "output_type": "execute_result"
    }
   ],
   "source": [
    "#Checks out columns\n",
    "df.columns"
   ]
  },
  {
   "cell_type": "code",
   "execution_count": 35,
   "metadata": {},
   "outputs": [
    {
     "data": {
      "text/plain": [
       "Month of             object\n",
       "Hours               float64\n",
       "Percent of Total    float64\n",
       "Revenue              object\n",
       "dtype: object"
      ]
     },
     "execution_count": 35,
     "metadata": {},
     "output_type": "execute_result"
    }
   ],
   "source": [
    "#Checks out data types\n",
    "df.dtypes"
   ]
  },
  {
   "cell_type": "code",
   "execution_count": 39,
   "metadata": {},
   "outputs": [
    {
     "data": {
      "text/plain": [
       "<bound method DataFrame.info of       Month of  Hours  Percent of Total  Revenue\n",
       "0       Jun-19   10.0               NaN      NaN\n",
       "1       Jul-19  120.0               NaN      NaN\n",
       "2       Aug-19  100.0               NaN      NaN\n",
       "3       Sep-19   70.0               NaN      NaN\n",
       "4       Oct-19  100.0               NaN      NaN\n",
       "5       Nov-19   50.0               NaN      NaN\n",
       "6       Dec-19  100.0               NaN      NaN\n",
       "7       Jan-20   10.0               NaN      NaN\n",
       "8        TOTAL    NaN               NaN   $0.32 \n",
       "Total      560  560.0             560.0      560>"
      ]
     },
     "execution_count": 39,
     "metadata": {},
     "output_type": "execute_result"
    }
   ],
   "source": [
    "#Info of DF\n",
    "df.info"
   ]
  },
  {
   "cell_type": "code",
   "execution_count": 76,
   "metadata": {},
   "outputs": [],
   "source": [
    "#Gets rid of Row 8\n",
    "df = df[:8]"
   ]
  },
  {
   "cell_type": "code",
   "execution_count": 77,
   "metadata": {},
   "outputs": [
    {
     "data": {
      "text/html": [
       "<div>\n",
       "<style scoped>\n",
       "    .dataframe tbody tr th:only-of-type {\n",
       "        vertical-align: middle;\n",
       "    }\n",
       "\n",
       "    .dataframe tbody tr th {\n",
       "        vertical-align: top;\n",
       "    }\n",
       "\n",
       "    .dataframe thead th {\n",
       "        text-align: right;\n",
       "    }\n",
       "</style>\n",
       "<table border=\"1\" class=\"dataframe\">\n",
       "  <thead>\n",
       "    <tr style=\"text-align: right;\">\n",
       "      <th></th>\n",
       "      <th>Month of</th>\n",
       "      <th>Hours</th>\n",
       "      <th>Percent of Total</th>\n",
       "      <th>Revenue</th>\n",
       "    </tr>\n",
       "  </thead>\n",
       "  <tbody>\n",
       "    <tr>\n",
       "      <th>0</th>\n",
       "      <td>Jun-19</td>\n",
       "      <td>10.0</td>\n",
       "      <td>0.017857</td>\n",
       "      <td>1.0</td>\n",
       "    </tr>\n",
       "    <tr>\n",
       "      <th>1</th>\n",
       "      <td>Jul-19</td>\n",
       "      <td>120.0</td>\n",
       "      <td>0.214286</td>\n",
       "      <td>7.0</td>\n",
       "    </tr>\n",
       "    <tr>\n",
       "      <th>2</th>\n",
       "      <td>Aug-19</td>\n",
       "      <td>100.0</td>\n",
       "      <td>0.178571</td>\n",
       "      <td>6.0</td>\n",
       "    </tr>\n",
       "    <tr>\n",
       "      <th>3</th>\n",
       "      <td>Sep-19</td>\n",
       "      <td>70.0</td>\n",
       "      <td>0.125000</td>\n",
       "      <td>4.0</td>\n",
       "    </tr>\n",
       "    <tr>\n",
       "      <th>4</th>\n",
       "      <td>Oct-19</td>\n",
       "      <td>100.0</td>\n",
       "      <td>0.178571</td>\n",
       "      <td>6.0</td>\n",
       "    </tr>\n",
       "    <tr>\n",
       "      <th>5</th>\n",
       "      <td>Nov-19</td>\n",
       "      <td>50.0</td>\n",
       "      <td>0.089286</td>\n",
       "      <td>3.0</td>\n",
       "    </tr>\n",
       "    <tr>\n",
       "      <th>6</th>\n",
       "      <td>Dec-19</td>\n",
       "      <td>100.0</td>\n",
       "      <td>0.178571</td>\n",
       "      <td>6.0</td>\n",
       "    </tr>\n",
       "    <tr>\n",
       "      <th>7</th>\n",
       "      <td>Jan-20</td>\n",
       "      <td>10.0</td>\n",
       "      <td>0.017857</td>\n",
       "      <td>1.0</td>\n",
       "    </tr>\n",
       "  </tbody>\n",
       "</table>\n",
       "</div>"
      ],
      "text/plain": [
       "  Month of  Hours  Percent of Total  Revenue\n",
       "0   Jun-19   10.0          0.017857      1.0\n",
       "1   Jul-19  120.0          0.214286      7.0\n",
       "2   Aug-19  100.0          0.178571      6.0\n",
       "3   Sep-19   70.0          0.125000      4.0\n",
       "4   Oct-19  100.0          0.178571      6.0\n",
       "5   Nov-19   50.0          0.089286      3.0\n",
       "6   Dec-19  100.0          0.178571      6.0\n",
       "7   Jan-20   10.0          0.017857      1.0"
      ]
     },
     "execution_count": 77,
     "metadata": {},
     "output_type": "execute_result"
    }
   ],
   "source": [
    "#Confirms Row 8 not in DF\n",
    "df"
   ]
  },
  {
   "cell_type": "code",
   "execution_count": 78,
   "metadata": {},
   "outputs": [
    {
     "data": {
      "text/plain": [
       "0    0.017857\n",
       "1    0.214286\n",
       "2    0.178571\n",
       "3    0.125000\n",
       "4    0.178571\n",
       "5    0.089286\n",
       "6    0.178571\n",
       "7    0.017857\n",
       "dtype: float64"
      ]
     },
     "execution_count": 78,
     "metadata": {},
     "output_type": "execute_result"
    }
   ],
   "source": [
    "#Creates function for calculating monthly percentage\n",
    "def calculate_percent(row):\n",
    "    return row['Hours'] / 560\n",
    "\n",
    "df.apply(calculate_percent, axis=1)"
   ]
  },
  {
   "cell_type": "code",
   "execution_count": 79,
   "metadata": {},
   "outputs": [
    {
     "name": "stderr",
     "output_type": "stream",
     "text": [
      "C:\\Users\\taylo\\Anaconda3\\envs\\dsi\\lib\\site-packages\\ipykernel_launcher.py:1: SettingWithCopyWarning: \n",
      "A value is trying to be set on a copy of a slice from a DataFrame.\n",
      "Try using .loc[row_indexer,col_indexer] = value instead\n",
      "\n",
      "See the caveats in the documentation: http://pandas.pydata.org/pandas-docs/stable/indexing.html#indexing-view-versus-copy\n",
      "  \"\"\"Entry point for launching an IPython kernel.\n"
     ]
    },
    {
     "data": {
      "text/html": [
       "<div>\n",
       "<style scoped>\n",
       "    .dataframe tbody tr th:only-of-type {\n",
       "        vertical-align: middle;\n",
       "    }\n",
       "\n",
       "    .dataframe tbody tr th {\n",
       "        vertical-align: top;\n",
       "    }\n",
       "\n",
       "    .dataframe thead th {\n",
       "        text-align: right;\n",
       "    }\n",
       "</style>\n",
       "<table border=\"1\" class=\"dataframe\">\n",
       "  <thead>\n",
       "    <tr style=\"text-align: right;\">\n",
       "      <th></th>\n",
       "      <th>Month of</th>\n",
       "      <th>Hours</th>\n",
       "      <th>Percent of Total</th>\n",
       "      <th>Revenue</th>\n",
       "    </tr>\n",
       "  </thead>\n",
       "  <tbody>\n",
       "    <tr>\n",
       "      <th>0</th>\n",
       "      <td>Jun-19</td>\n",
       "      <td>10.0</td>\n",
       "      <td>0.017857</td>\n",
       "      <td>1.0</td>\n",
       "    </tr>\n",
       "    <tr>\n",
       "      <th>1</th>\n",
       "      <td>Jul-19</td>\n",
       "      <td>120.0</td>\n",
       "      <td>0.214286</td>\n",
       "      <td>7.0</td>\n",
       "    </tr>\n",
       "    <tr>\n",
       "      <th>2</th>\n",
       "      <td>Aug-19</td>\n",
       "      <td>100.0</td>\n",
       "      <td>0.178571</td>\n",
       "      <td>6.0</td>\n",
       "    </tr>\n",
       "    <tr>\n",
       "      <th>3</th>\n",
       "      <td>Sep-19</td>\n",
       "      <td>70.0</td>\n",
       "      <td>0.125000</td>\n",
       "      <td>4.0</td>\n",
       "    </tr>\n",
       "    <tr>\n",
       "      <th>4</th>\n",
       "      <td>Oct-19</td>\n",
       "      <td>100.0</td>\n",
       "      <td>0.178571</td>\n",
       "      <td>6.0</td>\n",
       "    </tr>\n",
       "    <tr>\n",
       "      <th>5</th>\n",
       "      <td>Nov-19</td>\n",
       "      <td>50.0</td>\n",
       "      <td>0.089286</td>\n",
       "      <td>3.0</td>\n",
       "    </tr>\n",
       "    <tr>\n",
       "      <th>6</th>\n",
       "      <td>Dec-19</td>\n",
       "      <td>100.0</td>\n",
       "      <td>0.178571</td>\n",
       "      <td>6.0</td>\n",
       "    </tr>\n",
       "    <tr>\n",
       "      <th>7</th>\n",
       "      <td>Jan-20</td>\n",
       "      <td>10.0</td>\n",
       "      <td>0.017857</td>\n",
       "      <td>1.0</td>\n",
       "    </tr>\n",
       "  </tbody>\n",
       "</table>\n",
       "</div>"
      ],
      "text/plain": [
       "  Month of  Hours  Percent of Total  Revenue\n",
       "0   Jun-19   10.0          0.017857      1.0\n",
       "1   Jul-19  120.0          0.214286      7.0\n",
       "2   Aug-19  100.0          0.178571      6.0\n",
       "3   Sep-19   70.0          0.125000      4.0\n",
       "4   Oct-19  100.0          0.178571      6.0\n",
       "5   Nov-19   50.0          0.089286      3.0\n",
       "6   Dec-19  100.0          0.178571      6.0\n",
       "7   Jan-20   10.0          0.017857      1.0"
      ]
     },
     "execution_count": 79,
     "metadata": {},
     "output_type": "execute_result"
    }
   ],
   "source": [
    "#Applies monthly percentage function to new column\n",
    "df['Percent of Total'] = df.apply(calculate_percent, axis=1)\n",
    "df"
   ]
  },
  {
   "cell_type": "code",
   "execution_count": 80,
   "metadata": {},
   "outputs": [
    {
     "data": {
      "text/plain": [
       "0    0.571429\n",
       "1    6.857143\n",
       "2    5.714286\n",
       "3    4.000000\n",
       "4    5.714286\n",
       "5    2.857143\n",
       "6    5.714286\n",
       "7    0.571429\n",
       "dtype: float64"
      ]
     },
     "execution_count": 80,
     "metadata": {},
     "output_type": "execute_result"
    }
   ],
   "source": [
    "#Creates calculate revenue function\n",
    "def calculate_revenue(row):\n",
    "    return row['Percent of Total'] * 32\n",
    "\n",
    "df.apply(calculate_revenue, axis=1)"
   ]
  },
  {
   "cell_type": "code",
   "execution_count": 81,
   "metadata": {},
   "outputs": [
    {
     "name": "stderr",
     "output_type": "stream",
     "text": [
      "C:\\Users\\taylo\\Anaconda3\\envs\\dsi\\lib\\site-packages\\ipykernel_launcher.py:1: SettingWithCopyWarning: \n",
      "A value is trying to be set on a copy of a slice from a DataFrame.\n",
      "Try using .loc[row_indexer,col_indexer] = value instead\n",
      "\n",
      "See the caveats in the documentation: http://pandas.pydata.org/pandas-docs/stable/indexing.html#indexing-view-versus-copy\n",
      "  \"\"\"Entry point for launching an IPython kernel.\n"
     ]
    },
    {
     "data": {
      "text/html": [
       "<div>\n",
       "<style scoped>\n",
       "    .dataframe tbody tr th:only-of-type {\n",
       "        vertical-align: middle;\n",
       "    }\n",
       "\n",
       "    .dataframe tbody tr th {\n",
       "        vertical-align: top;\n",
       "    }\n",
       "\n",
       "    .dataframe thead th {\n",
       "        text-align: right;\n",
       "    }\n",
       "</style>\n",
       "<table border=\"1\" class=\"dataframe\">\n",
       "  <thead>\n",
       "    <tr style=\"text-align: right;\">\n",
       "      <th></th>\n",
       "      <th>Month of</th>\n",
       "      <th>Hours</th>\n",
       "      <th>Percent of Total</th>\n",
       "      <th>Revenue</th>\n",
       "    </tr>\n",
       "  </thead>\n",
       "  <tbody>\n",
       "    <tr>\n",
       "      <th>0</th>\n",
       "      <td>Jun-19</td>\n",
       "      <td>10.0</td>\n",
       "      <td>0.017857</td>\n",
       "      <td>0.571429</td>\n",
       "    </tr>\n",
       "    <tr>\n",
       "      <th>1</th>\n",
       "      <td>Jul-19</td>\n",
       "      <td>120.0</td>\n",
       "      <td>0.214286</td>\n",
       "      <td>6.857143</td>\n",
       "    </tr>\n",
       "    <tr>\n",
       "      <th>2</th>\n",
       "      <td>Aug-19</td>\n",
       "      <td>100.0</td>\n",
       "      <td>0.178571</td>\n",
       "      <td>5.714286</td>\n",
       "    </tr>\n",
       "    <tr>\n",
       "      <th>3</th>\n",
       "      <td>Sep-19</td>\n",
       "      <td>70.0</td>\n",
       "      <td>0.125000</td>\n",
       "      <td>4.000000</td>\n",
       "    </tr>\n",
       "    <tr>\n",
       "      <th>4</th>\n",
       "      <td>Oct-19</td>\n",
       "      <td>100.0</td>\n",
       "      <td>0.178571</td>\n",
       "      <td>5.714286</td>\n",
       "    </tr>\n",
       "    <tr>\n",
       "      <th>5</th>\n",
       "      <td>Nov-19</td>\n",
       "      <td>50.0</td>\n",
       "      <td>0.089286</td>\n",
       "      <td>2.857143</td>\n",
       "    </tr>\n",
       "    <tr>\n",
       "      <th>6</th>\n",
       "      <td>Dec-19</td>\n",
       "      <td>100.0</td>\n",
       "      <td>0.178571</td>\n",
       "      <td>5.714286</td>\n",
       "    </tr>\n",
       "    <tr>\n",
       "      <th>7</th>\n",
       "      <td>Jan-20</td>\n",
       "      <td>10.0</td>\n",
       "      <td>0.017857</td>\n",
       "      <td>0.571429</td>\n",
       "    </tr>\n",
       "  </tbody>\n",
       "</table>\n",
       "</div>"
      ],
      "text/plain": [
       "  Month of  Hours  Percent of Total   Revenue\n",
       "0   Jun-19   10.0          0.017857  0.571429\n",
       "1   Jul-19  120.0          0.214286  6.857143\n",
       "2   Aug-19  100.0          0.178571  5.714286\n",
       "3   Sep-19   70.0          0.125000  4.000000\n",
       "4   Oct-19  100.0          0.178571  5.714286\n",
       "5   Nov-19   50.0          0.089286  2.857143\n",
       "6   Dec-19  100.0          0.178571  5.714286\n",
       "7   Jan-20   10.0          0.017857  0.571429"
      ]
     },
     "execution_count": 81,
     "metadata": {},
     "output_type": "execute_result"
    }
   ],
   "source": [
    "#Creates new column applying revenue function\n",
    "df['Revenue'] = df.apply(calculate_revenue, axis=1)\n",
    "df"
   ]
  },
  {
   "cell_type": "code",
   "execution_count": 82,
   "metadata": {},
   "outputs": [
    {
     "data": {
      "text/plain": [
       "Month of             object\n",
       "Hours               float64\n",
       "Percent of Total    float64\n",
       "Revenue             float64\n",
       "dtype: object"
      ]
     },
     "execution_count": 82,
     "metadata": {},
     "output_type": "execute_result"
    }
   ],
   "source": [
    "#Checks out data types\n",
    "df.dtypes"
   ]
  },
  {
   "cell_type": "code",
   "execution_count": 83,
   "metadata": {},
   "outputs": [
    {
     "name": "stderr",
     "output_type": "stream",
     "text": [
      "C:\\Users\\taylo\\Anaconda3\\envs\\dsi\\lib\\site-packages\\ipykernel_launcher.py:1: SettingWithCopyWarning: \n",
      "A value is trying to be set on a copy of a slice from a DataFrame.\n",
      "Try using .loc[row_indexer,col_indexer] = value instead\n",
      "\n",
      "See the caveats in the documentation: http://pandas.pydata.org/pandas-docs/stable/indexing.html#indexing-view-versus-copy\n",
      "  \"\"\"Entry point for launching an IPython kernel.\n"
     ]
    }
   ],
   "source": [
    "#Rounds down Revenue column to whole integer\n",
    "df['Revenue'] = df.Revenue.astype(float).round()"
   ]
  },
  {
   "cell_type": "code",
   "execution_count": null,
   "metadata": {},
   "outputs": [],
   "source": [
    "#Creates total Row\n",
    "df.loc['Total',:]= df.sum(axis=0)"
   ]
  },
  {
   "cell_type": "code",
   "execution_count": 91,
   "metadata": {},
   "outputs": [
    {
     "data": {
      "text/html": [
       "<div>\n",
       "<style scoped>\n",
       "    .dataframe tbody tr th:only-of-type {\n",
       "        vertical-align: middle;\n",
       "    }\n",
       "\n",
       "    .dataframe tbody tr th {\n",
       "        vertical-align: top;\n",
       "    }\n",
       "\n",
       "    .dataframe thead th {\n",
       "        text-align: right;\n",
       "    }\n",
       "</style>\n",
       "<table border=\"1\" class=\"dataframe\">\n",
       "  <thead>\n",
       "    <tr style=\"text-align: right;\">\n",
       "      <th></th>\n",
       "      <th>Month of</th>\n",
       "      <th>Hours</th>\n",
       "      <th>Percent of Total</th>\n",
       "      <th>Revenue</th>\n",
       "      <th>Revenue_RD</th>\n",
       "    </tr>\n",
       "  </thead>\n",
       "  <tbody>\n",
       "    <tr>\n",
       "      <th>0</th>\n",
       "      <td>Jun-19</td>\n",
       "      <td>10.0</td>\n",
       "      <td>0.017857</td>\n",
       "      <td>1.0</td>\n",
       "      <td>0.571429</td>\n",
       "    </tr>\n",
       "    <tr>\n",
       "      <th>1</th>\n",
       "      <td>Jul-19</td>\n",
       "      <td>120.0</td>\n",
       "      <td>0.214286</td>\n",
       "      <td>7.0</td>\n",
       "      <td>6.857143</td>\n",
       "    </tr>\n",
       "    <tr>\n",
       "      <th>2</th>\n",
       "      <td>Aug-19</td>\n",
       "      <td>100.0</td>\n",
       "      <td>0.178571</td>\n",
       "      <td>6.0</td>\n",
       "      <td>5.714286</td>\n",
       "    </tr>\n",
       "    <tr>\n",
       "      <th>3</th>\n",
       "      <td>Sep-19</td>\n",
       "      <td>70.0</td>\n",
       "      <td>0.125000</td>\n",
       "      <td>4.0</td>\n",
       "      <td>4.000000</td>\n",
       "    </tr>\n",
       "    <tr>\n",
       "      <th>4</th>\n",
       "      <td>Oct-19</td>\n",
       "      <td>100.0</td>\n",
       "      <td>0.178571</td>\n",
       "      <td>6.0</td>\n",
       "      <td>5.714286</td>\n",
       "    </tr>\n",
       "    <tr>\n",
       "      <th>5</th>\n",
       "      <td>Nov-19</td>\n",
       "      <td>50.0</td>\n",
       "      <td>0.089286</td>\n",
       "      <td>3.0</td>\n",
       "      <td>2.857143</td>\n",
       "    </tr>\n",
       "    <tr>\n",
       "      <th>6</th>\n",
       "      <td>Dec-19</td>\n",
       "      <td>100.0</td>\n",
       "      <td>0.178571</td>\n",
       "      <td>6.0</td>\n",
       "      <td>5.714286</td>\n",
       "    </tr>\n",
       "    <tr>\n",
       "      <th>7</th>\n",
       "      <td>Jan-20</td>\n",
       "      <td>10.0</td>\n",
       "      <td>0.017857</td>\n",
       "      <td>1.0</td>\n",
       "      <td>0.571429</td>\n",
       "    </tr>\n",
       "    <tr>\n",
       "      <th>Total</th>\n",
       "      <td>Jun-19Jul-19Aug-19Sep-19Oct-19Nov-19Dec-19Jan-20</td>\n",
       "      <td>560.0</td>\n",
       "      <td>1.000000</td>\n",
       "      <td>34.0</td>\n",
       "      <td>32.000000</td>\n",
       "    </tr>\n",
       "  </tbody>\n",
       "</table>\n",
       "</div>"
      ],
      "text/plain": [
       "                                               Month of  Hours  \\\n",
       "0                                                Jun-19   10.0   \n",
       "1                                                Jul-19  120.0   \n",
       "2                                                Aug-19  100.0   \n",
       "3                                                Sep-19   70.0   \n",
       "4                                                Oct-19  100.0   \n",
       "5                                                Nov-19   50.0   \n",
       "6                                                Dec-19  100.0   \n",
       "7                                                Jan-20   10.0   \n",
       "Total  Jun-19Jul-19Aug-19Sep-19Oct-19Nov-19Dec-19Jan-20  560.0   \n",
       "\n",
       "       Percent of Total  Revenue  Revenue_RD  \n",
       "0              0.017857      1.0    0.571429  \n",
       "1              0.214286      7.0    6.857143  \n",
       "2              0.178571      6.0    5.714286  \n",
       "3              0.125000      4.0    4.000000  \n",
       "4              0.178571      6.0    5.714286  \n",
       "5              0.089286      3.0    2.857143  \n",
       "6              0.178571      6.0    5.714286  \n",
       "7              0.017857      1.0    0.571429  \n",
       "Total          1.000000     34.0   32.000000  "
      ]
     },
     "execution_count": 91,
     "metadata": {},
     "output_type": "execute_result"
    }
   ],
   "source": [
    "#Creates Second Revenue Column, because first was greater than 32\n",
    "df['Revenue_RD'] = df.apply(calculate_revenue, axis=1)\n",
    "df"
   ]
  },
  {
   "cell_type": "code",
   "execution_count": 96,
   "metadata": {},
   "outputs": [],
   "source": [
    "#Rounds down new Revenue column\n",
    "df['Revenue_RD'] = df['Revenue_RD'].apply(np.floor)"
   ]
  },
  {
   "cell_type": "code",
   "execution_count": 97,
   "metadata": {},
   "outputs": [
    {
     "data": {
      "text/html": [
       "<div>\n",
       "<style scoped>\n",
       "    .dataframe tbody tr th:only-of-type {\n",
       "        vertical-align: middle;\n",
       "    }\n",
       "\n",
       "    .dataframe tbody tr th {\n",
       "        vertical-align: top;\n",
       "    }\n",
       "\n",
       "    .dataframe thead th {\n",
       "        text-align: right;\n",
       "    }\n",
       "</style>\n",
       "<table border=\"1\" class=\"dataframe\">\n",
       "  <thead>\n",
       "    <tr style=\"text-align: right;\">\n",
       "      <th></th>\n",
       "      <th>Month of</th>\n",
       "      <th>Hours</th>\n",
       "      <th>Percent of Total</th>\n",
       "      <th>Revenue</th>\n",
       "      <th>Revenue_RD</th>\n",
       "    </tr>\n",
       "  </thead>\n",
       "  <tbody>\n",
       "    <tr>\n",
       "      <th>0</th>\n",
       "      <td>Jun-19</td>\n",
       "      <td>10.0</td>\n",
       "      <td>0.017857</td>\n",
       "      <td>1.0</td>\n",
       "      <td>0.0</td>\n",
       "    </tr>\n",
       "    <tr>\n",
       "      <th>1</th>\n",
       "      <td>Jul-19</td>\n",
       "      <td>120.0</td>\n",
       "      <td>0.214286</td>\n",
       "      <td>7.0</td>\n",
       "      <td>6.0</td>\n",
       "    </tr>\n",
       "    <tr>\n",
       "      <th>2</th>\n",
       "      <td>Aug-19</td>\n",
       "      <td>100.0</td>\n",
       "      <td>0.178571</td>\n",
       "      <td>6.0</td>\n",
       "      <td>5.0</td>\n",
       "    </tr>\n",
       "    <tr>\n",
       "      <th>3</th>\n",
       "      <td>Sep-19</td>\n",
       "      <td>70.0</td>\n",
       "      <td>0.125000</td>\n",
       "      <td>4.0</td>\n",
       "      <td>4.0</td>\n",
       "    </tr>\n",
       "    <tr>\n",
       "      <th>4</th>\n",
       "      <td>Oct-19</td>\n",
       "      <td>100.0</td>\n",
       "      <td>0.178571</td>\n",
       "      <td>6.0</td>\n",
       "      <td>5.0</td>\n",
       "    </tr>\n",
       "    <tr>\n",
       "      <th>5</th>\n",
       "      <td>Nov-19</td>\n",
       "      <td>50.0</td>\n",
       "      <td>0.089286</td>\n",
       "      <td>3.0</td>\n",
       "      <td>2.0</td>\n",
       "    </tr>\n",
       "    <tr>\n",
       "      <th>6</th>\n",
       "      <td>Dec-19</td>\n",
       "      <td>100.0</td>\n",
       "      <td>0.178571</td>\n",
       "      <td>6.0</td>\n",
       "      <td>5.0</td>\n",
       "    </tr>\n",
       "    <tr>\n",
       "      <th>7</th>\n",
       "      <td>Jan-20</td>\n",
       "      <td>10.0</td>\n",
       "      <td>0.017857</td>\n",
       "      <td>1.0</td>\n",
       "      <td>0.0</td>\n",
       "    </tr>\n",
       "    <tr>\n",
       "      <th>Total</th>\n",
       "      <td>Jun-19Jul-19Aug-19Sep-19Oct-19Nov-19Dec-19Jan-20</td>\n",
       "      <td>560.0</td>\n",
       "      <td>1.000000</td>\n",
       "      <td>34.0</td>\n",
       "      <td>32.0</td>\n",
       "    </tr>\n",
       "  </tbody>\n",
       "</table>\n",
       "</div>"
      ],
      "text/plain": [
       "                                               Month of  Hours  \\\n",
       "0                                                Jun-19   10.0   \n",
       "1                                                Jul-19  120.0   \n",
       "2                                                Aug-19  100.0   \n",
       "3                                                Sep-19   70.0   \n",
       "4                                                Oct-19  100.0   \n",
       "5                                                Nov-19   50.0   \n",
       "6                                                Dec-19  100.0   \n",
       "7                                                Jan-20   10.0   \n",
       "Total  Jun-19Jul-19Aug-19Sep-19Oct-19Nov-19Dec-19Jan-20  560.0   \n",
       "\n",
       "       Percent of Total  Revenue  Revenue_RD  \n",
       "0              0.017857      1.0         0.0  \n",
       "1              0.214286      7.0         6.0  \n",
       "2              0.178571      6.0         5.0  \n",
       "3              0.125000      4.0         4.0  \n",
       "4              0.178571      6.0         5.0  \n",
       "5              0.089286      3.0         2.0  \n",
       "6              0.178571      6.0         5.0  \n",
       "7              0.017857      1.0         0.0  \n",
       "Total          1.000000     34.0        32.0  "
      ]
     },
     "execution_count": 97,
     "metadata": {},
     "output_type": "execute_result"
    }
   ],
   "source": [
    "#Confirms new Revenue Column rounds down and Total is equal to 32\n",
    "df"
   ]
  }
 ],
 "metadata": {
  "kernelspec": {
   "display_name": "Python [conda env:dsi]",
   "language": "python",
   "name": "conda-env-dsi-py"
  },
  "language_info": {
   "codemirror_mode": {
    "name": "ipython",
    "version": 3
   },
   "file_extension": ".py",
   "mimetype": "text/x-python",
   "name": "python",
   "nbconvert_exporter": "python",
   "pygments_lexer": "ipython3",
   "version": "3.7.3"
  }
 },
 "nbformat": 4,
 "nbformat_minor": 2
}
